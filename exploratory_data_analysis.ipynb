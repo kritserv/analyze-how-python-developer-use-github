{
 "cells": [
  {
   "cell_type": "markdown",
   "id": "a11a7be0-e0f2-4e8b-a455-3901ef92a67d",
   "metadata": {},
   "source": [
    "# Import Module and Data"
   ]
  },
  {
   "cell_type": "code",
   "execution_count": 1,
   "id": "685c06f5-0b5b-4d1e-ae1b-64b725e9b63d",
   "metadata": {},
   "outputs": [],
   "source": [
    "import pandas as pd\n",
    "import matplotlib.pyplot as plt\n",
    "import seaborn as sns\n",
    "import numpy as np"
   ]
  },
  {
   "cell_type": "code",
   "execution_count": 2,
   "id": "fd7d8137-aeb9-4102-89b7-347f5f1fd0a2",
   "metadata": {},
   "outputs": [],
   "source": [
    "event_data = pd.read_csv('data/all_user_event_data.csv')\n",
    "profile_data = pd.read_csv('data/all_user_profile_data.csv')\n",
    "repo_data = pd.read_csv('data/all_user_repo_data.csv')\n",
    "starred_data = pd.read_csv('data/all_user_starred_data.csv')"
   ]
  },
  {
   "cell_type": "markdown",
   "id": "94229928-3f19-4bdd-87d4-12b86b55cbe7",
   "metadata": {},
   "source": [
    "# Profile Data"
   ]
  },
  {
   "cell_type": "code",
   "execution_count": 3,
   "id": "0c87b258-d5a8-432a-b765-e65645f2bf99",
   "metadata": {},
   "outputs": [
    {
     "data": {
      "text/html": [
       "<div>\n",
       "<style scoped>\n",
       "    .dataframe tbody tr th:only-of-type {\n",
       "        vertical-align: middle;\n",
       "    }\n",
       "\n",
       "    .dataframe tbody tr th {\n",
       "        vertical-align: top;\n",
       "    }\n",
       "\n",
       "    .dataframe thead th {\n",
       "        text-align: right;\n",
       "    }\n",
       "</style>\n",
       "<table border=\"1\" class=\"dataframe\">\n",
       "  <thead>\n",
       "    <tr style=\"text-align: right;\">\n",
       "      <th></th>\n",
       "      <th>user_alias</th>\n",
       "      <th>type</th>\n",
       "      <th>hireable</th>\n",
       "      <th>location</th>\n",
       "      <th>followers</th>\n",
       "      <th>following</th>\n",
       "      <th>public_repos</th>\n",
       "      <th>public_gists</th>\n",
       "      <th>created_at</th>\n",
       "      <th>updated_at</th>\n",
       "    </tr>\n",
       "  </thead>\n",
       "  <tbody>\n",
       "    <tr>\n",
       "      <th>0</th>\n",
       "      <td>usr0</td>\n",
       "      <td>User</td>\n",
       "      <td>NaN</td>\n",
       "      <td>NaN</td>\n",
       "      <td>2.0</td>\n",
       "      <td>7.0</td>\n",
       "      <td>43.0</td>\n",
       "      <td>NaN</td>\n",
       "      <td>2020-09-07T23:54:51Z</td>\n",
       "      <td>2023-10-05T18:16:01Z</td>\n",
       "    </tr>\n",
       "    <tr>\n",
       "      <th>1</th>\n",
       "      <td>usr1</td>\n",
       "      <td>User</td>\n",
       "      <td>NaN</td>\n",
       "      <td>Tbilisi</td>\n",
       "      <td>3.0</td>\n",
       "      <td>4.0</td>\n",
       "      <td>16.0</td>\n",
       "      <td>NaN</td>\n",
       "      <td>2011-04-16T12:30:37Z</td>\n",
       "      <td>2024-01-08T13:45:16Z</td>\n",
       "    </tr>\n",
       "    <tr>\n",
       "      <th>2</th>\n",
       "      <td>usr2</td>\n",
       "      <td>User</td>\n",
       "      <td>NaN</td>\n",
       "      <td>Karachi</td>\n",
       "      <td>13.0</td>\n",
       "      <td>23.0</td>\n",
       "      <td>44.0</td>\n",
       "      <td>NaN</td>\n",
       "      <td>2023-01-03T13:56:42Z</td>\n",
       "      <td>2023-12-24T05:10:36Z</td>\n",
       "    </tr>\n",
       "    <tr>\n",
       "      <th>3</th>\n",
       "      <td>usr3</td>\n",
       "      <td>User</td>\n",
       "      <td>True</td>\n",
       "      <td>Karachi</td>\n",
       "      <td>NaN</td>\n",
       "      <td>NaN</td>\n",
       "      <td>5.0</td>\n",
       "      <td>NaN</td>\n",
       "      <td>2021-09-24T09:04:40Z</td>\n",
       "      <td>2023-05-02T19:11:00Z</td>\n",
       "    </tr>\n",
       "    <tr>\n",
       "      <th>4</th>\n",
       "      <td>usr4</td>\n",
       "      <td>User</td>\n",
       "      <td>NaN</td>\n",
       "      <td>NaN</td>\n",
       "      <td>1.0</td>\n",
       "      <td>NaN</td>\n",
       "      <td>2.0</td>\n",
       "      <td>NaN</td>\n",
       "      <td>2022-10-07T11:01:08Z</td>\n",
       "      <td>2023-12-07T20:03:36Z</td>\n",
       "    </tr>\n",
       "  </tbody>\n",
       "</table>\n",
       "</div>"
      ],
      "text/plain": [
       "  user_alias  type hireable location  followers  following  public_repos  \\\n",
       "0       usr0  User      NaN      NaN        2.0        7.0          43.0   \n",
       "1       usr1  User      NaN  Tbilisi        3.0        4.0          16.0   \n",
       "2       usr2  User      NaN  Karachi       13.0       23.0          44.0   \n",
       "3       usr3  User     True  Karachi        NaN        NaN           5.0   \n",
       "4       usr4  User      NaN      NaN        1.0        NaN           2.0   \n",
       "\n",
       "   public_gists            created_at            updated_at  \n",
       "0           NaN  2020-09-07T23:54:51Z  2023-10-05T18:16:01Z  \n",
       "1           NaN  2011-04-16T12:30:37Z  2024-01-08T13:45:16Z  \n",
       "2           NaN  2023-01-03T13:56:42Z  2023-12-24T05:10:36Z  \n",
       "3           NaN  2021-09-24T09:04:40Z  2023-05-02T19:11:00Z  \n",
       "4           NaN  2022-10-07T11:01:08Z  2023-12-07T20:03:36Z  "
      ]
     },
     "execution_count": 3,
     "metadata": {},
     "output_type": "execute_result"
    }
   ],
   "source": [
    "profile_data.head()"
   ]
  },
  {
   "cell_type": "code",
   "execution_count": 4,
   "id": "557aa8d2-2d30-4098-acbc-ceda26d82eb8",
   "metadata": {},
   "outputs": [
    {
     "name": "stdout",
     "output_type": "stream",
     "text": [
      "<class 'pandas.core.frame.DataFrame'>\n",
      "RangeIndex: 8583 entries, 0 to 8582\n",
      "Data columns (total 10 columns):\n",
      " #   Column        Non-Null Count  Dtype  \n",
      "---  ------        --------------  -----  \n",
      " 0   user_alias    8583 non-null   object \n",
      " 1   type          8583 non-null   object \n",
      " 2   hireable      1731 non-null   object \n",
      " 3   location      4667 non-null   object \n",
      " 4   followers     6053 non-null   float64\n",
      " 5   following     5913 non-null   float64\n",
      " 6   public_repos  8468 non-null   float64\n",
      " 7   public_gists  1224 non-null   float64\n",
      " 8   created_at    8583 non-null   object \n",
      " 9   updated_at    8583 non-null   object \n",
      "dtypes: float64(4), object(6)\n",
      "memory usage: 670.7+ KB\n"
     ]
    }
   ],
   "source": [
    "profile_data.info()"
   ]
  },
  {
   "cell_type": "code",
   "execution_count": 5,
   "id": "8fc6145a-bca9-4aaf-8921-9e1a8cbca7bf",
   "metadata": {},
   "outputs": [
    {
     "data": {
      "text/html": [
       "<div>\n",
       "<style scoped>\n",
       "    .dataframe tbody tr th:only-of-type {\n",
       "        vertical-align: middle;\n",
       "    }\n",
       "\n",
       "    .dataframe tbody tr th {\n",
       "        vertical-align: top;\n",
       "    }\n",
       "\n",
       "    .dataframe thead th {\n",
       "        text-align: right;\n",
       "    }\n",
       "</style>\n",
       "<table border=\"1\" class=\"dataframe\">\n",
       "  <thead>\n",
       "    <tr style=\"text-align: right;\">\n",
       "      <th></th>\n",
       "      <th>followers</th>\n",
       "      <th>following</th>\n",
       "      <th>public_repos</th>\n",
       "      <th>public_gists</th>\n",
       "    </tr>\n",
       "  </thead>\n",
       "  <tbody>\n",
       "    <tr>\n",
       "      <th>count</th>\n",
       "      <td>6053.000000</td>\n",
       "      <td>5913.000000</td>\n",
       "      <td>8468.000000</td>\n",
       "      <td>1224.000000</td>\n",
       "    </tr>\n",
       "    <tr>\n",
       "      <th>mean</th>\n",
       "      <td>23.588469</td>\n",
       "      <td>22.914257</td>\n",
       "      <td>23.285191</td>\n",
       "      <td>9.337418</td>\n",
       "    </tr>\n",
       "    <tr>\n",
       "      <th>std</th>\n",
       "      <td>258.815656</td>\n",
       "      <td>226.813140</td>\n",
       "      <td>43.595825</td>\n",
       "      <td>31.173369</td>\n",
       "    </tr>\n",
       "    <tr>\n",
       "      <th>min</th>\n",
       "      <td>1.000000</td>\n",
       "      <td>1.000000</td>\n",
       "      <td>1.000000</td>\n",
       "      <td>1.000000</td>\n",
       "    </tr>\n",
       "    <tr>\n",
       "      <th>25%</th>\n",
       "      <td>2.000000</td>\n",
       "      <td>2.000000</td>\n",
       "      <td>7.000000</td>\n",
       "      <td>1.000000</td>\n",
       "    </tr>\n",
       "    <tr>\n",
       "      <th>50%</th>\n",
       "      <td>4.000000</td>\n",
       "      <td>5.000000</td>\n",
       "      <td>14.000000</td>\n",
       "      <td>3.000000</td>\n",
       "    </tr>\n",
       "    <tr>\n",
       "      <th>75%</th>\n",
       "      <td>12.000000</td>\n",
       "      <td>15.000000</td>\n",
       "      <td>27.000000</td>\n",
       "      <td>7.000000</td>\n",
       "    </tr>\n",
       "    <tr>\n",
       "      <th>max</th>\n",
       "      <td>14753.000000</td>\n",
       "      <td>15337.000000</td>\n",
       "      <td>2496.000000</td>\n",
       "      <td>760.000000</td>\n",
       "    </tr>\n",
       "  </tbody>\n",
       "</table>\n",
       "</div>"
      ],
      "text/plain": [
       "          followers     following  public_repos  public_gists\n",
       "count   6053.000000   5913.000000   8468.000000   1224.000000\n",
       "mean      23.588469     22.914257     23.285191      9.337418\n",
       "std      258.815656    226.813140     43.595825     31.173369\n",
       "min        1.000000      1.000000      1.000000      1.000000\n",
       "25%        2.000000      2.000000      7.000000      1.000000\n",
       "50%        4.000000      5.000000     14.000000      3.000000\n",
       "75%       12.000000     15.000000     27.000000      7.000000\n",
       "max    14753.000000  15337.000000   2496.000000    760.000000"
      ]
     },
     "execution_count": 5,
     "metadata": {},
     "output_type": "execute_result"
    }
   ],
   "source": [
    "profile_data.describe()"
   ]
  },
  {
   "cell_type": "code",
   "execution_count": 6,
   "id": "50a552cf-2e1f-47fe-a10a-f52230c2dd06",
   "metadata": {},
   "outputs": [],
   "source": [
    "profile_data['followers'].fillna(0, inplace=True)\n",
    "profile_data['following'].fillna(0, inplace=True)\n",
    "profile_data['public_repos'].fillna(0, inplace=True)\n",
    "profile_data['public_gists'].fillna(0, inplace=True)\n",
    "profile_data['hireable'].fillna(False, inplace=True)"
   ]
  },
  {
   "cell_type": "code",
   "execution_count": 7,
   "id": "a85e578c-ea41-4d10-af10-7e4a0976ebb1",
   "metadata": {},
   "outputs": [
    {
     "data": {
      "text/plain": [
       "user_alias         0\n",
       "type               0\n",
       "hireable           0\n",
       "location        3916\n",
       "followers          0\n",
       "following          0\n",
       "public_repos       0\n",
       "public_gists       0\n",
       "created_at         0\n",
       "updated_at         0\n",
       "dtype: int64"
      ]
     },
     "execution_count": 7,
     "metadata": {},
     "output_type": "execute_result"
    }
   ],
   "source": [
    "profile_data.isnull().sum()"
   ]
  },
  {
   "cell_type": "code",
   "execution_count": 8,
   "id": "1174c100-e12d-497d-b95e-50107d52f865",
   "metadata": {},
   "outputs": [
    {
     "data": {
      "image/png": "[encoded data removed]",
      "text/plain": [
       "<Figure size 600x400 with 1 Axes>"
      ]
     },
     "metadata": {},
     "output_type": "display_data"
    }
   ],
   "source": [
    "plt.figure(figsize=(6, 4))\n",
    "sns.countplot(data=profile_data, x='hireable')\n",
    "plt.title('Hireable Users')\n",
    "plt.show()"
   ]
  },
  {
   "cell_type": "code",
   "execution_count": 9,
   "id": "74c7c65b-7a8b-4db6-ac25-b0f8ba94da38",
   "metadata": {},
   "outputs": [
    {
     "data": {
      "image/png": "[encoded data removed]",
      "text/plain": [
       "<Figure size 900x600 with 1 Axes>"
      ]
     },
     "metadata": {},
     "output_type": "display_data"
    }
   ],
   "source": [
    "plt.figure(figsize=(9, 6))\n",
    "sns.histplot(data=profile_data, x='public_repos', bins=30)\n",
    "plt.title('Public Repos')\n",
    "plt.show()"
   ]
  },
  {
   "cell_type": "code",
   "execution_count": 10,
   "id": "de0da979-244f-4dcf-8dab-b7fd77a5a12f",
   "metadata": {},
   "outputs": [
    {
     "data": {
      "image/png": "[encoded data removed]",
      "text/plain": [
       "<Figure size 900x600 with 1 Axes>"
      ]
     },
     "metadata": {},
     "output_type": "display_data"
    }
   ],
   "source": [
    "plt.figure(figsize=(9, 6))\n",
    "sns.histplot(data=profile_data, x='following', bins=30)\n",
    "plt.title('Following')\n",
    "plt.show()"
   ]
  },
  {
   "cell_type": "code",
   "execution_count": 11,
   "id": "b3348dc9-dc08-4ba5-8479-9b230a80c052",
   "metadata": {},
   "outputs": [],
   "source": [
    "log_followers = np.log(profile_data['followers'] + 1)"
   ]
  },
  {
   "cell_type": "code",
   "execution_count": 12,
   "id": "e6403572-59f7-4c52-8f41-29e04c34210a",
   "metadata": {},
   "outputs": [
    {
     "data": {
      "image/png": "[encoded data removed]",
      "text/plain": [
       "<Figure size 640x480 with 1 Axes>"
      ]
     },
     "metadata": {},
     "output_type": "display_data"
    }
   ],
   "source": [
    "sns.histplot(log_followers, bins=30)\n",
    "\n",
    "plt.xlabel('Log of Followers')\n",
    "plt.ylabel('Frequency')\n",
    "plt.title('Histogram of Log-Transformed Followers')\n",
    "\n",
    "plt.show()"
   ]
  },
  {
   "cell_type": "markdown",
   "id": "77c26d10-c77f-4cca-8dbe-be31f7dfa7d6",
   "metadata": {},
   "source": [
    "From the histogram of the log-transformed followers, it appears that a significant number of users have between 0 and 2 log of followers. Therefore, for further data analysis I set a threshold at around 4 to focus on users with a higher follower count while retaining a substantial portion of dataset."
   ]
  },
  {
   "cell_type": "code",
   "execution_count": 13,
   "id": "5f0a46f9-78d8-4a97-819a-6af6ce41a1d3",
   "metadata": {},
   "outputs": [],
   "source": [
    "threshold = np.exp(4)"
   ]
  },
  {
   "cell_type": "code",
   "execution_count": 14,
   "id": "227fdaac-7c6e-4e23-9078-7cfd8924ab39",
   "metadata": {},
   "outputs": [
    {
     "data": {
      "text/plain": [
       "54.598150033144236"
      ]
     },
     "execution_count": 14,
     "metadata": {},
     "output_type": "execute_result"
    }
   ],
   "source": [
    "threshold"
   ]
  },
  {
   "cell_type": "code",
   "execution_count": 15,
   "id": "a43c8132-1cbe-4629-9e01-772eb7acca21",
   "metadata": {},
   "outputs": [],
   "source": [
    "high_follower_users = profile_data[profile_data['followers'] > threshold]\n",
    "low_follower_users = profile_data[profile_data['followers'] <= threshold]"
   ]
  },
  {
   "cell_type": "code",
   "execution_count": 16,
   "id": "a55db812-bf83-4a82-919e-51636e33f248",
   "metadata": {},
   "outputs": [
    {
     "data": {
      "text/plain": [
       "8583"
      ]
     },
     "execution_count": 16,
     "metadata": {},
     "output_type": "execute_result"
    }
   ],
   "source": [
    "len(profile_data)"
   ]
  },
  {
   "cell_type": "code",
   "execution_count": 17,
   "id": "7450e0a1-a997-4fb9-8c86-d9fea2872236",
   "metadata": {},
   "outputs": [
    {
     "data": {
      "text/plain": [
       "(342, 8241)"
      ]
     },
     "execution_count": 17,
     "metadata": {},
     "output_type": "execute_result"
    }
   ],
   "source": [
    "len(high_follower_users), len(low_follower_users)"
   ]
  },
  {
   "cell_type": "markdown",
   "id": "c86d4891-2222-4206-a729-ef97b31ddc9b",
   "metadata": {},
   "source": [
    "# Event Data"
   ]
  },
  {
   "cell_type": "code",
   "execution_count": 18,
   "id": "05b2e44f-460d-4cbd-a7f1-af92314d471e",
   "metadata": {},
   "outputs": [
    {
     "data": {
      "text/html": [
       "<div>\n",
       "<style scoped>\n",
       "    .dataframe tbody tr th:only-of-type {\n",
       "        vertical-align: middle;\n",
       "    }\n",
       "\n",
       "    .dataframe tbody tr th {\n",
       "        vertical-align: top;\n",
       "    }\n",
       "\n",
       "    .dataframe thead th {\n",
       "        text-align: right;\n",
       "    }\n",
       "</style>\n",
       "<table border=\"1\" class=\"dataframe\">\n",
       "  <thead>\n",
       "    <tr style=\"text-align: right;\">\n",
       "      <th></th>\n",
       "      <th>user_alias</th>\n",
       "      <th>event_type</th>\n",
       "      <th>created_at</th>\n",
       "    </tr>\n",
       "  </thead>\n",
       "  <tbody>\n",
       "    <tr>\n",
       "      <th>0</th>\n",
       "      <td>usr1</td>\n",
       "      <td>PushEvent</td>\n",
       "      <td>2023-10-31T17:57:39Z</td>\n",
       "    </tr>\n",
       "    <tr>\n",
       "      <th>1</th>\n",
       "      <td>usr1</td>\n",
       "      <td>CreateEvent</td>\n",
       "      <td>2023-10-30T18:13:26Z</td>\n",
       "    </tr>\n",
       "    <tr>\n",
       "      <th>2</th>\n",
       "      <td>usr1</td>\n",
       "      <td>CreateEvent</td>\n",
       "      <td>2023-10-30T17:53:32Z</td>\n",
       "    </tr>\n",
       "    <tr>\n",
       "      <th>3</th>\n",
       "      <td>usr2</td>\n",
       "      <td>CreateEvent</td>\n",
       "      <td>2024-01-08T17:29:08Z</td>\n",
       "    </tr>\n",
       "    <tr>\n",
       "      <th>4</th>\n",
       "      <td>usr2</td>\n",
       "      <td>CreateEvent</td>\n",
       "      <td>2024-01-08T17:27:38Z</td>\n",
       "    </tr>\n",
       "  </tbody>\n",
       "</table>\n",
       "</div>"
      ],
      "text/plain": [
       "  user_alias   event_type            created_at\n",
       "0       usr1    PushEvent  2023-10-31T17:57:39Z\n",
       "1       usr1  CreateEvent  2023-10-30T18:13:26Z\n",
       "2       usr1  CreateEvent  2023-10-30T17:53:32Z\n",
       "3       usr2  CreateEvent  2024-01-08T17:29:08Z\n",
       "4       usr2  CreateEvent  2024-01-08T17:27:38Z"
      ]
     },
     "execution_count": 18,
     "metadata": {},
     "output_type": "execute_result"
    }
   ],
   "source": [
    "event_data.head()"
   ]
  },
  {
   "cell_type": "code",
   "execution_count": 19,
   "id": "0af372c1-8ee4-40d8-9579-04882af04621",
   "metadata": {},
   "outputs": [
    {
     "name": "stdout",
     "output_type": "stream",
     "text": [
      "<class 'pandas.core.frame.DataFrame'>\n",
      "RangeIndex: 185141 entries, 0 to 185140\n",
      "Data columns (total 3 columns):\n",
      " #   Column      Non-Null Count   Dtype \n",
      "---  ------      --------------   ----- \n",
      " 0   user_alias  185141 non-null  object\n",
      " 1   event_type  183512 non-null  object\n",
      " 2   created_at  183512 non-null  object\n",
      "dtypes: object(3)\n",
      "memory usage: 4.2+ MB\n"
     ]
    }
   ],
   "source": [
    "event_data.info()"
   ]
  },
  {
   "cell_type": "code",
   "execution_count": 20,
   "id": "4bfac3f6-efbc-419c-a91d-b039f5272c2a",
   "metadata": {},
   "outputs": [
    {
     "data": {
      "text/html": [
       "<div>\n",
       "<style scoped>\n",
       "    .dataframe tbody tr th:only-of-type {\n",
       "        vertical-align: middle;\n",
       "    }\n",
       "\n",
       "    .dataframe tbody tr th {\n",
       "        vertical-align: top;\n",
       "    }\n",
       "\n",
       "    .dataframe thead th {\n",
       "        text-align: right;\n",
       "    }\n",
       "</style>\n",
       "<table border=\"1\" class=\"dataframe\">\n",
       "  <thead>\n",
       "    <tr style=\"text-align: right;\">\n",
       "      <th></th>\n",
       "      <th>user_alias</th>\n",
       "      <th>event_type</th>\n",
       "      <th>created_at</th>\n",
       "    </tr>\n",
       "  </thead>\n",
       "  <tbody>\n",
       "    <tr>\n",
       "      <th>count</th>\n",
       "      <td>185141</td>\n",
       "      <td>183512</td>\n",
       "      <td>183512</td>\n",
       "    </tr>\n",
       "    <tr>\n",
       "      <th>unique</th>\n",
       "      <td>5844</td>\n",
       "      <td>16</td>\n",
       "      <td>176733</td>\n",
       "    </tr>\n",
       "    <tr>\n",
       "      <th>top</th>\n",
       "      <td>usr250</td>\n",
       "      <td>PushEvent</td>\n",
       "      <td>2023-12-11T18:25:02Z</td>\n",
       "    </tr>\n",
       "    <tr>\n",
       "      <th>freq</th>\n",
       "      <td>300</td>\n",
       "      <td>105266</td>\n",
       "      <td>11</td>\n",
       "    </tr>\n",
       "  </tbody>\n",
       "</table>\n",
       "</div>"
      ],
      "text/plain": [
       "       user_alias event_type            created_at\n",
       "count      185141     183512                183512\n",
       "unique       5844         16                176733\n",
       "top        usr250  PushEvent  2023-12-11T18:25:02Z\n",
       "freq          300     105266                    11"
      ]
     },
     "execution_count": 20,
     "metadata": {},
     "output_type": "execute_result"
    }
   ],
   "source": [
    "event_data.describe()"
   ]
  },
  {
   "cell_type": "code",
   "execution_count": 21,
   "id": "b055191e-7d20-4fde-93ae-bf67abd93567",
   "metadata": {},
   "outputs": [
    {
     "data": {
      "text/plain": [
       "user_alias       0\n",
       "event_type    1629\n",
       "created_at    1629\n",
       "dtype: int64"
      ]
     },
     "execution_count": 21,
     "metadata": {},
     "output_type": "execute_result"
    }
   ],
   "source": [
    "event_data.isnull().sum()"
   ]
  },
  {
   "cell_type": "code",
   "execution_count": 22,
   "id": "3f57b827-ed9f-4931-a918-d869bc7897d8",
   "metadata": {},
   "outputs": [
    {
     "data": {
      "image/png": "[encoded data removed]",
      "text/plain": [
       "<Figure size 640x480 with 1 Axes>"
      ]
     },
     "metadata": {},
     "output_type": "display_data"
    }
   ],
   "source": [
    "order = event_data['event_type'].value_counts().index\n",
    "sns.countplot(data=event_data, y='event_type', order=order)\n",
    "plt.title('Event Type Frequency')\n",
    "plt.show()"
   ]
  },
  {
   "cell_type": "markdown",
   "id": "496c02b8-aa03-4a5c-905d-7c87b3578cf1",
   "metadata": {},
   "source": [
    "# Repo Data"
   ]
  },
  {
   "cell_type": "code",
   "execution_count": 23,
   "id": "c3fe646f-6a02-490c-a534-a6d48d5fe421",
   "metadata": {},
   "outputs": [
    {
     "data": {
      "text/html": [
       "<div>\n",
       "<style scoped>\n",
       "    .dataframe tbody tr th:only-of-type {\n",
       "        vertical-align: middle;\n",
       "    }\n",
       "\n",
       "    .dataframe tbody tr th {\n",
       "        vertical-align: top;\n",
       "    }\n",
       "\n",
       "    .dataframe thead th {\n",
       "        text-align: right;\n",
       "    }\n",
       "</style>\n",
       "<table border=\"1\" class=\"dataframe\">\n",
       "  <thead>\n",
       "    <tr style=\"text-align: right;\">\n",
       "      <th></th>\n",
       "      <th>user_alias</th>\n",
       "      <th>description</th>\n",
       "      <th>fork</th>\n",
       "      <th>stargazers_count</th>\n",
       "      <th>language</th>\n",
       "      <th>topics</th>\n",
       "      <th>forks</th>\n",
       "    </tr>\n",
       "  </thead>\n",
       "  <tbody>\n",
       "    <tr>\n",
       "      <th>0</th>\n",
       "      <td>usr0</td>\n",
       "      <td>NaN</td>\n",
       "      <td>NaN</td>\n",
       "      <td>NaN</td>\n",
       "      <td>JavaScript</td>\n",
       "      <td>NaN</td>\n",
       "      <td>NaN</td>\n",
       "    </tr>\n",
       "    <tr>\n",
       "      <th>1</th>\n",
       "      <td>usr0</td>\n",
       "      <td>NaN</td>\n",
       "      <td>NaN</td>\n",
       "      <td>NaN</td>\n",
       "      <td>JavaScript</td>\n",
       "      <td>NaN</td>\n",
       "      <td>NaN</td>\n",
       "    </tr>\n",
       "    <tr>\n",
       "      <th>2</th>\n",
       "      <td>usr0</td>\n",
       "      <td>NaN</td>\n",
       "      <td>NaN</td>\n",
       "      <td>NaN</td>\n",
       "      <td>JavaScript</td>\n",
       "      <td>NaN</td>\n",
       "      <td>NaN</td>\n",
       "    </tr>\n",
       "    <tr>\n",
       "      <th>3</th>\n",
       "      <td>usr0</td>\n",
       "      <td>NaN</td>\n",
       "      <td>NaN</td>\n",
       "      <td>NaN</td>\n",
       "      <td>JavaScript</td>\n",
       "      <td>NaN</td>\n",
       "      <td>NaN</td>\n",
       "    </tr>\n",
       "    <tr>\n",
       "      <th>4</th>\n",
       "      <td>usr0</td>\n",
       "      <td>NaN</td>\n",
       "      <td>NaN</td>\n",
       "      <td>NaN</td>\n",
       "      <td>JavaScript</td>\n",
       "      <td>NaN</td>\n",
       "      <td>NaN</td>\n",
       "    </tr>\n",
       "  </tbody>\n",
       "</table>\n",
       "</div>"
      ],
      "text/plain": [
       "  user_alias description fork  stargazers_count    language topics  forks\n",
       "0       usr0         NaN  NaN               NaN  JavaScript    NaN    NaN\n",
       "1       usr0         NaN  NaN               NaN  JavaScript    NaN    NaN\n",
       "2       usr0         NaN  NaN               NaN  JavaScript    NaN    NaN\n",
       "3       usr0         NaN  NaN               NaN  JavaScript    NaN    NaN\n",
       "4       usr0         NaN  NaN               NaN  JavaScript    NaN    NaN"
      ]
     },
     "execution_count": 23,
     "metadata": {},
     "output_type": "execute_result"
    }
   ],
   "source": [
    "repo_data.head()"
   ]
  },
  {
   "cell_type": "code",
   "execution_count": 24,
   "id": "e33872f7-753a-44f6-8aa4-868328e683aa",
   "metadata": {},
   "outputs": [
    {
     "name": "stdout",
     "output_type": "stream",
     "text": [
      "<class 'pandas.core.frame.DataFrame'>\n",
      "RangeIndex: 181609 entries, 0 to 181608\n",
      "Data columns (total 7 columns):\n",
      " #   Column            Non-Null Count   Dtype  \n",
      "---  ------            --------------   -----  \n",
      " 0   user_alias        181609 non-null  object \n",
      " 1   description       95716 non-null   object \n",
      " 2   fork              41311 non-null   object \n",
      " 3   stargazers_count  30333 non-null   float64\n",
      " 4   language          138836 non-null  object \n",
      " 5   topics            12929 non-null   object \n",
      " 6   forks             9486 non-null    float64\n",
      "dtypes: float64(2), object(5)\n",
      "memory usage: 9.7+ MB\n"
     ]
    }
   ],
   "source": [
    "repo_data.info()"
   ]
  },
  {
   "cell_type": "code",
   "execution_count": 25,
   "id": "9db0dfbe-fa5a-4597-9fb5-c1d5c465f321",
   "metadata": {},
   "outputs": [
    {
     "data": {
      "text/html": [
       "<div>\n",
       "<style scoped>\n",
       "    .dataframe tbody tr th:only-of-type {\n",
       "        vertical-align: middle;\n",
       "    }\n",
       "\n",
       "    .dataframe tbody tr th {\n",
       "        vertical-align: top;\n",
       "    }\n",
       "\n",
       "    .dataframe thead th {\n",
       "        text-align: right;\n",
       "    }\n",
       "</style>\n",
       "<table border=\"1\" class=\"dataframe\">\n",
       "  <thead>\n",
       "    <tr style=\"text-align: right;\">\n",
       "      <th></th>\n",
       "      <th>stargazers_count</th>\n",
       "      <th>forks</th>\n",
       "    </tr>\n",
       "  </thead>\n",
       "  <tbody>\n",
       "    <tr>\n",
       "      <th>count</th>\n",
       "      <td>30333.000000</td>\n",
       "      <td>9486.000000</td>\n",
       "    </tr>\n",
       "    <tr>\n",
       "      <th>mean</th>\n",
       "      <td>9.454225</td>\n",
       "      <td>9.393844</td>\n",
       "    </tr>\n",
       "    <tr>\n",
       "      <th>std</th>\n",
       "      <td>242.336619</td>\n",
       "      <td>114.511456</td>\n",
       "    </tr>\n",
       "    <tr>\n",
       "      <th>min</th>\n",
       "      <td>1.000000</td>\n",
       "      <td>1.000000</td>\n",
       "    </tr>\n",
       "    <tr>\n",
       "      <th>25%</th>\n",
       "      <td>1.000000</td>\n",
       "      <td>1.000000</td>\n",
       "    </tr>\n",
       "    <tr>\n",
       "      <th>50%</th>\n",
       "      <td>1.000000</td>\n",
       "      <td>1.000000</td>\n",
       "    </tr>\n",
       "    <tr>\n",
       "      <th>75%</th>\n",
       "      <td>2.000000</td>\n",
       "      <td>2.000000</td>\n",
       "    </tr>\n",
       "    <tr>\n",
       "      <th>max</th>\n",
       "      <td>34729.000000</td>\n",
       "      <td>6472.000000</td>\n",
       "    </tr>\n",
       "  </tbody>\n",
       "</table>\n",
       "</div>"
      ],
      "text/plain": [
       "       stargazers_count        forks\n",
       "count      30333.000000  9486.000000\n",
       "mean           9.454225     9.393844\n",
       "std          242.336619   114.511456\n",
       "min            1.000000     1.000000\n",
       "25%            1.000000     1.000000\n",
       "50%            1.000000     1.000000\n",
       "75%            2.000000     2.000000\n",
       "max        34729.000000  6472.000000"
      ]
     },
     "execution_count": 25,
     "metadata": {},
     "output_type": "execute_result"
    }
   ],
   "source": [
    "repo_data.describe()"
   ]
  },
  {
   "cell_type": "code",
   "execution_count": 26,
   "id": "426b3e77-a9f8-4b27-8e0c-ffde5cabb152",
   "metadata": {},
   "outputs": [
    {
     "data": {
      "text/plain": [
       "user_alias               0\n",
       "description          85893\n",
       "fork                140298\n",
       "stargazers_count    151276\n",
       "language             42773\n",
       "topics              168680\n",
       "forks               172123\n",
       "dtype: int64"
      ]
     },
     "execution_count": 26,
     "metadata": {},
     "output_type": "execute_result"
    }
   ],
   "source": [
    "repo_data.isnull().sum()"
   ]
  },
  {
   "cell_type": "code",
   "execution_count": 27,
   "id": "c73c0483-2ae1-46e4-af4f-d6da2f661e13",
   "metadata": {},
   "outputs": [],
   "source": [
    "language_counts = repo_data['language'].value_counts()"
   ]
  },
  {
   "cell_type": "code",
   "execution_count": 28,
   "id": "4a17a636-64c5-4720-aa1e-2fac09530e2d",
   "metadata": {},
   "outputs": [],
   "source": [
    "top_20_languages = language_counts[:20]\n",
    "\n",
    "repo_data['language_top20'] = repo_data['language'].where(repo_data['language'].isin(top_20_languages.index), 'Other')"
   ]
  },
  {
   "cell_type": "code",
   "execution_count": 29,
   "id": "a263c269-a875-4eb6-8022-ffca11dbac53",
   "metadata": {},
   "outputs": [
    {
     "data": {
      "image/png": "[encoded data removed]",
      "text/plain": [
       "<Figure size 900x600 with 1 Axes>"
      ]
     },
     "metadata": {},
     "output_type": "display_data"
    }
   ],
   "source": [
    "plt.figure(figsize=(9, 6))\n",
    "sns.countplot(data=repo_data, y='language_top20', order=repo_data['language_top20'].value_counts().index)\n",
    "plt.title('Top 20 Languages In Repo Data')\n",
    "plt.xlabel('Count')\n",
    "plt.ylabel('Language')\n",
    "plt.show()"
   ]
  },
  {
   "cell_type": "markdown",
   "id": "bb4641f1-bf68-4725-8fd9-8355bc2fbdc4",
   "metadata": {},
   "source": [
    "# Starred Data"
   ]
  },
  {
   "cell_type": "code",
   "execution_count": 30,
   "id": "0770c211-114e-44ab-8df5-228e4ffd13ca",
   "metadata": {},
   "outputs": [
    {
     "data": {
      "text/html": [
       "<div>\n",
       "<style scoped>\n",
       "    .dataframe tbody tr th:only-of-type {\n",
       "        vertical-align: middle;\n",
       "    }\n",
       "\n",
       "    .dataframe tbody tr th {\n",
       "        vertical-align: top;\n",
       "    }\n",
       "\n",
       "    .dataframe thead th {\n",
       "        text-align: right;\n",
       "    }\n",
       "</style>\n",
       "<table border=\"1\" class=\"dataframe\">\n",
       "  <thead>\n",
       "    <tr style=\"text-align: right;\">\n",
       "      <th></th>\n",
       "      <th>user_alias</th>\n",
       "      <th>full_name</th>\n",
       "      <th>html_url</th>\n",
       "      <th>description</th>\n",
       "      <th>language</th>\n",
       "      <th>topics</th>\n",
       "      <th>stargazers_count</th>\n",
       "    </tr>\n",
       "  </thead>\n",
       "  <tbody>\n",
       "    <tr>\n",
       "      <th>0</th>\n",
       "      <td>usr1</td>\n",
       "      <td>microsoft/PowerToys</td>\n",
       "      <td>https://github.com/microsoft/PowerToys</td>\n",
       "      <td>Windows system utilities to maximize productivity</td>\n",
       "      <td>C#</td>\n",
       "      <td>color-picker/desktop/fancyzones/keyboard-manag...</td>\n",
       "      <td>101541.0</td>\n",
       "    </tr>\n",
       "    <tr>\n",
       "      <th>1</th>\n",
       "      <td>usr1</td>\n",
       "      <td>spring-projects/spring-security</td>\n",
       "      <td>https://github.com/spring-projects/spring-secu...</td>\n",
       "      <td>Spring Security</td>\n",
       "      <td>Java</td>\n",
       "      <td>framework/java/security/spring/spring-framework</td>\n",
       "      <td>8207.0</td>\n",
       "    </tr>\n",
       "    <tr>\n",
       "      <th>2</th>\n",
       "      <td>usr1</td>\n",
       "      <td>bitwarden/clients</td>\n",
       "      <td>https://github.com/bitwarden/clients</td>\n",
       "      <td>Bitwarden client applications (web/browser ext...</td>\n",
       "      <td>TypeScript</td>\n",
       "      <td>angular/bitwarden/browser-extension/chrome/cli...</td>\n",
       "      <td>7824.0</td>\n",
       "    </tr>\n",
       "    <tr>\n",
       "      <th>3</th>\n",
       "      <td>usr1</td>\n",
       "      <td>gothinkster/realworld</td>\n",
       "      <td>https://github.com/gothinkster/realworld</td>\n",
       "      <td>\"The mother of all demo apps\" — Exemplary full...</td>\n",
       "      <td>TypeScript</td>\n",
       "      <td>NaN</td>\n",
       "      <td>77396.0</td>\n",
       "    </tr>\n",
       "    <tr>\n",
       "      <th>4</th>\n",
       "      <td>usr1</td>\n",
       "      <td>ch4mpy/spring-addons</td>\n",
       "      <td>https://github.com/ch4mpy/spring-addons</td>\n",
       "      <td>Ease spring OAuth2 resource-servers configurat...</td>\n",
       "      <td>Java</td>\n",
       "      <td>auth0/cognito/hacktoberfest/keycloak/oidc/open...</td>\n",
       "      <td>405.0</td>\n",
       "    </tr>\n",
       "  </tbody>\n",
       "</table>\n",
       "</div>"
      ],
      "text/plain": [
       "  user_alias                        full_name  \\\n",
       "0       usr1              microsoft/PowerToys   \n",
       "1       usr1  spring-projects/spring-security   \n",
       "2       usr1                bitwarden/clients   \n",
       "3       usr1            gothinkster/realworld   \n",
       "4       usr1             ch4mpy/spring-addons   \n",
       "\n",
       "                                            html_url  \\\n",
       "0             https://github.com/microsoft/PowerToys   \n",
       "1  https://github.com/spring-projects/spring-secu...   \n",
       "2               https://github.com/bitwarden/clients   \n",
       "3           https://github.com/gothinkster/realworld   \n",
       "4            https://github.com/ch4mpy/spring-addons   \n",
       "\n",
       "                                         description    language  \\\n",
       "0  Windows system utilities to maximize productivity          C#   \n",
       "1                                    Spring Security        Java   \n",
       "2  Bitwarden client applications (web/browser ext...  TypeScript   \n",
       "3  \"The mother of all demo apps\" — Exemplary full...  TypeScript   \n",
       "4  Ease spring OAuth2 resource-servers configurat...        Java   \n",
       "\n",
       "                                              topics  stargazers_count  \n",
       "0  color-picker/desktop/fancyzones/keyboard-manag...          101541.0  \n",
       "1    framework/java/security/spring/spring-framework            8207.0  \n",
       "2  angular/bitwarden/browser-extension/chrome/cli...            7824.0  \n",
       "3                                                NaN           77396.0  \n",
       "4  auth0/cognito/hacktoberfest/keycloak/oidc/open...             405.0  "
      ]
     },
     "execution_count": 30,
     "metadata": {},
     "output_type": "execute_result"
    }
   ],
   "source": [
    "starred_data.head()"
   ]
  },
  {
   "cell_type": "code",
   "execution_count": 31,
   "id": "6d8fc090-b5e0-47b5-b4d4-12efbdb3d293",
   "metadata": {},
   "outputs": [
    {
     "name": "stdout",
     "output_type": "stream",
     "text": [
      "<class 'pandas.core.frame.DataFrame'>\n",
      "RangeIndex: 118764 entries, 0 to 118763\n",
      "Data columns (total 7 columns):\n",
      " #   Column            Non-Null Count   Dtype  \n",
      "---  ------            --------------   -----  \n",
      " 0   user_alias        118764 non-null  object \n",
      " 1   full_name         118764 non-null  object \n",
      " 2   html_url          118764 non-null  object \n",
      " 3   description       105881 non-null  object \n",
      " 4   language          105256 non-null  object \n",
      " 5   topics            72093 non-null   object \n",
      " 6   stargazers_count  118756 non-null  float64\n",
      "dtypes: float64(1), object(6)\n",
      "memory usage: 6.3+ MB\n"
     ]
    }
   ],
   "source": [
    "starred_data.info()"
   ]
  },
  {
   "cell_type": "code",
   "execution_count": 32,
   "id": "880da063-4f45-4a53-90d8-f181e7d8a23d",
   "metadata": {},
   "outputs": [
    {
     "data": {
      "text/html": [
       "<div>\n",
       "<style scoped>\n",
       "    .dataframe tbody tr th:only-of-type {\n",
       "        vertical-align: middle;\n",
       "    }\n",
       "\n",
       "    .dataframe tbody tr th {\n",
       "        vertical-align: top;\n",
       "    }\n",
       "\n",
       "    .dataframe thead th {\n",
       "        text-align: right;\n",
       "    }\n",
       "</style>\n",
       "<table border=\"1\" class=\"dataframe\">\n",
       "  <thead>\n",
       "    <tr style=\"text-align: right;\">\n",
       "      <th></th>\n",
       "      <th>stargazers_count</th>\n",
       "    </tr>\n",
       "  </thead>\n",
       "  <tbody>\n",
       "    <tr>\n",
       "      <th>count</th>\n",
       "      <td>118756.000000</td>\n",
       "    </tr>\n",
       "    <tr>\n",
       "      <th>mean</th>\n",
       "      <td>17709.895609</td>\n",
       "    </tr>\n",
       "    <tr>\n",
       "      <th>std</th>\n",
       "      <td>44375.232528</td>\n",
       "    </tr>\n",
       "    <tr>\n",
       "      <th>min</th>\n",
       "      <td>1.000000</td>\n",
       "    </tr>\n",
       "    <tr>\n",
       "      <th>25%</th>\n",
       "      <td>26.000000</td>\n",
       "    </tr>\n",
       "    <tr>\n",
       "      <th>50%</th>\n",
       "      <td>1411.000000</td>\n",
       "    </tr>\n",
       "    <tr>\n",
       "      <th>75%</th>\n",
       "      <td>13295.000000</td>\n",
       "    </tr>\n",
       "    <tr>\n",
       "      <th>max</th>\n",
       "      <td>381613.000000</td>\n",
       "    </tr>\n",
       "  </tbody>\n",
       "</table>\n",
       "</div>"
      ],
      "text/plain": [
       "       stargazers_count\n",
       "count     118756.000000\n",
       "mean       17709.895609\n",
       "std        44375.232528\n",
       "min            1.000000\n",
       "25%           26.000000\n",
       "50%         1411.000000\n",
       "75%        13295.000000\n",
       "max       381613.000000"
      ]
     },
     "execution_count": 32,
     "metadata": {},
     "output_type": "execute_result"
    }
   ],
   "source": [
    "starred_data.describe()"
   ]
  },
  {
   "cell_type": "code",
   "execution_count": 33,
   "id": "34075c13-c795-4260-9f32-f45e02fc08ae",
   "metadata": {},
   "outputs": [
    {
     "data": {
      "text/plain": [
       "user_alias              0\n",
       "full_name               0\n",
       "html_url                0\n",
       "description         12883\n",
       "language            13508\n",
       "topics              46671\n",
       "stargazers_count        8\n",
       "dtype: int64"
      ]
     },
     "execution_count": 33,
     "metadata": {},
     "output_type": "execute_result"
    }
   ],
   "source": [
    "starred_data.isnull().sum()"
   ]
  },
  {
   "cell_type": "code",
   "execution_count": 34,
   "id": "6c4767e8-16fa-4d48-9067-a58a20baf8b0",
   "metadata": {},
   "outputs": [],
   "source": [
    "language_counts = starred_data['language'].value_counts()"
   ]
  },
  {
   "cell_type": "code",
   "execution_count": 35,
   "id": "aabe82d1-8b49-41b1-a9ac-27b3b44182bd",
   "metadata": {},
   "outputs": [],
   "source": [
    "top_20_languages = language_counts[:20]\n",
    "\n",
    "starred_data['language_top20'] = starred_data['language'].where(starred_data['language'].isin(top_20_languages.index), 'Other')"
   ]
  },
  {
   "cell_type": "code",
   "execution_count": 36,
   "id": "0f7e7243-6429-4dc3-9b0c-c30f6086b03c",
   "metadata": {},
   "outputs": [
    {
     "data": {
      "image/png": "[encoded data removed]",
      "text/plain": [
       "<Figure size 900x600 with 1 Axes>"
      ]
     },
     "metadata": {},
     "output_type": "display_data"
    }
   ],
   "source": [
    "plt.figure(figsize=(9, 6))\n",
    "sns.countplot(data=starred_data, y='language_top20', order=starred_data['language_top20'].value_counts().index)\n",
    "plt.title('Top 20 Languages In Starred Data')\n",
    "plt.xlabel('Count')\n",
    "plt.ylabel('Language')\n",
    "plt.show()"
   ]
  }
 ],
 "metadata": {
  "kernelspec": {
   "display_name": "Python 3 (ipykernel)",
   "language": "python",
   "name": "python3"
  },
  "language_info": {
   "codemirror_mode": {
    "name": "ipython",
    "version": 3
   },
   "file_extension": ".py",
   "mimetype": "text/x-python",
   "name": "python",
   "nbconvert_exporter": "python",
   "pygments_lexer": "ipython3",
   "version": "3.10.10"
  }
 },
 "nbformat": 4,
 "nbformat_minor": 5
}
