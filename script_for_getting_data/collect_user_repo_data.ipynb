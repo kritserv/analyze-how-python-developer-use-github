{
 "cells": [
  {
   "cell_type": "code",
   "execution_count": 1,
   "id": "35af15ae-fae4-4b72-aefd-a35c6a8d74a2",
   "metadata": {},
   "outputs": [],
   "source": [
    "import time\n",
    "import datetime\n",
    "import requests\n",
    "import csv\n",
    "from tqdm import notebook"
   ]
  },
  {
   "cell_type": "code",
   "execution_count": 2,
   "id": "ad4fed66-1c4c-41cc-a50b-c3a588deef01",
   "metadata": {},
   "outputs": [],
   "source": [
    "session = requests.Session()\n",
    "with open (\"token.txt\", \"r\") as f:\n",
    "    x = f.readline()\n",
    "session.headers.update({\"Authorization\": \"token \"+x.strip()})"
   ]
  },
  {
   "cell_type": "code",
   "execution_count": 3,
   "id": "8336fbc8-3921-49e9-bb02-8d5a0a2c55d1",
   "metadata": {},
   "outputs": [],
   "source": [
    "error_url = []\n",
    "\n",
    "def FetchDataFromGitHubRestApi(url):\n",
    "    response = session.get(url)\n",
    "    if response.status_code == 200:\n",
    "        fetched_data = response.json()\n",
    "        poll_interval = None\n",
    "        poll_interval = response.headers.get('X-Poll-Interval')\n",
    "        if poll_interval:\n",
    "            time.sleep(int(poll_interval))\n",
    "        return fetched_data\n",
    "    else:\n",
    "        error_url.append(url)\n",
    "\n",
    "def Select(field, fetched_data):\n",
    "    # Select Field From Fetched Data\n",
    "    if fetched_data[field]:\n",
    "        if type(fetched_data[field]) == str:\n",
    "            try:\n",
    "                output = str(fetched_data[field])\n",
    "            except:\n",
    "                output = fetched_data[field]\n",
    "        else:\n",
    "            output = str(fetched_data[field])\n",
    "        output = output.replace(\"'\",'').replace(\", \",'/').replace(\",\",'/').replace('[','').replace(']','')\n",
    "        if output == \" \" or output == \"\":\n",
    "            output = \"None\"\n",
    "    else:\n",
    "        output = \"None\"\n",
    "    return output"
   ]
  },
  {
   "cell_type": "code",
   "execution_count": 4,
   "id": "da2c130d-fccd-4df8-8ed0-a37299ff3840",
   "metadata": {},
   "outputs": [],
   "source": [
    "with open (\"8K_github_username.txt\", \"r\", encoding=\"utf8\") as f:\n",
    "    all_username = f.readlines()\n",
    "\n",
    "with open (\"not_a_user_or_no_data.txt\", \"r\", encoding=\"utf8\") as f:\n",
    "    not_a_user_or_no_data = f.readlines()\n",
    "\n",
    "for user in not_a_user_or_no_data:\n",
    "    all_username.remove(user)"
   ]
  },
  {
   "cell_type": "code",
   "execution_count": 5,
   "id": "9bb2e331-9a18-416c-8112-2d1ae3b68c0e",
   "metadata": {},
   "outputs": [],
   "source": [
    "all_username = [x.strip() for x in all_username]\n",
    "first_half = all_username[:4999]\n",
    "second_half = all_username[4999:]"
   ]
  },
  {
   "cell_type": "code",
   "execution_count": 6,
   "id": "85b81957-b796-402f-adf8-743846866492",
   "metadata": {},
   "outputs": [],
   "source": [
    "def CollectUserRepoData(writer, username, c):\n",
    "\n",
    "    user_alias = \"usr\"+str(c)\n",
    "\n",
    "    fetched_repo_data = FetchDataFromGitHubRestApi(\"https://api.github.com/users/\"+username+\"/repos?per_page=100&sort=updated\")\n",
    "\n",
    "    for repo in fetched_repo_data:\n",
    "        try:\n",
    "            description = Select(\"description\", repo)\n",
    "            fork = Select(\"fork\", repo)\n",
    "            stargazers_count = Select(\"stargazers_count\", repo)\n",
    "            language = Select(\"language\", repo)\n",
    "            topics = Select(\"topics\", repo)\n",
    "            forks = Select(\"forks\", repo)\n",
    "            writer.writerow([user_alias, description, fork, stargazers_count, language, topics, forks])\n",
    "        except:\n",
    "            writer.writerow([user_alias, \"None\", \"None\", \"None\", \"None\", \"None\", \"None\"])"
   ]
  },
  {
   "cell_type": "code",
   "execution_count": 7,
   "id": "1abeeb52-b9d7-4a31-a980-04afc392e120",
   "metadata": {},
   "outputs": [
    {
     "name": "stdout",
     "output_type": "stream",
     "text": [
      "start time:  16 : 59\n"
     ]
    }
   ],
   "source": [
    "print(\"start time: \",datetime.datetime.now().hour,\":\", datetime.datetime.now().minute)"
   ]
  },
  {
   "cell_type": "code",
   "execution_count": 8,
   "id": "6c732b83-6c35-4352-b036-e4eadff5618c",
   "metadata": {},
   "outputs": [
    {
     "data": {
      "application/vnd.jupyter.widget-view+json": {
       "model_id": "bb385c5a1435481893cc6c0db8203560",
       "version_major": 2,
       "version_minor": 0
      },
      "text/plain": [
       "  0%|          | 0/4999 [00:00<?, ?it/s]"
      ]
     },
     "metadata": {},
     "output_type": "display_data"
    },
    {
     "name": "stdout",
     "output_type": "stream",
     "text": [
      "first half complete!\n",
      "wait for request limit\n",
      "wait_time =  36\n"
     ]
    },
    {
     "data": {
      "application/vnd.jupyter.widget-view+json": {
       "model_id": "ed8cc996dea241febfa18938ce27ed2c",
       "version_major": 2,
       "version_minor": 0
      },
      "text/plain": [
       "  0%|          | 0/36 [00:00<?, ?it/s]"
      ]
     },
     "metadata": {},
     "output_type": "display_data"
    },
    {
     "name": "stdout",
     "output_type": "stream",
     "text": [
      "request limit = 4999\n"
     ]
    },
    {
     "data": {
      "application/vnd.jupyter.widget-view+json": {
       "model_id": "b1df319de49244a28ce67a7f96c24cc9",
       "version_major": 2,
       "version_minor": 0
      },
      "text/plain": [
       "  0%|          | 0/3584 [00:00<?, ?it/s]"
      ]
     },
     "metadata": {},
     "output_type": "display_data"
    },
    {
     "name": "stdout",
     "output_type": "stream",
     "text": [
      "second half complete!\n"
     ]
    }
   ],
   "source": [
    "with open('all_user_repo_data.csv', 'w', newline='', encoding='utf8') as f:\n",
    "    \n",
    "    writer = csv.writer(f)\n",
    "    \n",
    "    writer.writerow([\"user_alias\", \"description\", \"fork\", \"stargazers_count\", \"language\", \"topics\", \"forks\"])\n",
    "\n",
    "    c = 0\n",
    "    for username in notebook.tqdm(first_half):\n",
    "        try:\n",
    "            CollectUserRepoData(writer, username, c)\n",
    "        except:\n",
    "            pass\n",
    "        c+=1\n",
    "\n",
    "    print(\"first half complete!\")\n",
    "\n",
    "    print(\"wait for request limit\")\n",
    "    wait_time = 60 - datetime.datetime.now().minute\n",
    "    print(\"wait_time = \", wait_time+1)\n",
    "    for n in notebook.tqdm(range(wait_time+1)):\n",
    "        time.sleep(60)\n",
    "    print(\"request limit = 4999\")\n",
    "    \n",
    "    for username in notebook.tqdm(second_half):\n",
    "        try:\n",
    "            CollectUserRepoData(writer, username, c)\n",
    "        except:\n",
    "            pass\n",
    "        c+=1\n",
    "\n",
    "print(\"second half complete!\")"
   ]
  },
  {
   "cell_type": "code",
   "execution_count": 9,
   "id": "9c2592d9-63f9-4d5f-a850-ab9dd3329cb2",
   "metadata": {},
   "outputs": [
    {
     "name": "stdout",
     "output_type": "stream",
     "text": [
      "stop time:  20 : 3\n"
     ]
    }
   ],
   "source": [
    "print(\"stop time: \",datetime.datetime.now().hour,\":\", datetime.datetime.now().minute)"
   ]
  }
 ],
 "metadata": {
  "kernelspec": {
   "display_name": "Python 3 (ipykernel)",
   "language": "python",
   "name": "python3"
  },
  "language_info": {
   "codemirror_mode": {
    "name": "ipython",
    "version": 3
   },
   "file_extension": ".py",
   "mimetype": "text/x-python",
   "name": "python",
   "nbconvert_exporter": "python",
   "pygments_lexer": "ipython3",
   "version": "3.10.10"
  }
 },
 "nbformat": 4,
 "nbformat_minor": 5
}
