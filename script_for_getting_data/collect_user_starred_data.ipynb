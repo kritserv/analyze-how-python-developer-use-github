{
 "cells": [
  {
   "cell_type": "code",
   "execution_count": 1,
   "id": "171b3a51-4f6a-46b9-b01c-f5a4a45ba098",
   "metadata": {},
   "outputs": [],
   "source": [
    "import time\n",
    "import datetime\n",
    "import requests\n",
    "import csv\n",
    "from tqdm import notebook"
   ]
  },
  {
   "cell_type": "code",
   "execution_count": 2,
   "id": "5ddbc761-3da7-410a-999b-8be8d71d0391",
   "metadata": {},
   "outputs": [],
   "source": [
    "session = requests.Session()\n",
    "with open (\"token.txt\", \"r\") as f:\n",
    "    x = f.readline()\n",
    "session.headers.update({\"Authorization\": \"token \"+x.strip()})"
   ]
  },
  {
   "cell_type": "code",
   "execution_count": 3,
   "id": "969c0142-c8aa-48d0-9d87-009ff7130f65",
   "metadata": {},
   "outputs": [],
   "source": [
    "error_url = []\n",
    "\n",
    "def FetchDataFromGitHubRestApi(url):\n",
    "    response = session.get(url)\n",
    "    if response.status_code == 200:\n",
    "        fetched_data = response.json()\n",
    "        poll_interval = None\n",
    "        poll_interval = response.headers.get('X-Poll-Interval')\n",
    "        if poll_interval:\n",
    "            time.sleep(int(poll_interval))\n",
    "        return fetched_data\n",
    "    else:\n",
    "        error_url.append(url)\n",
    "\n",
    "def Select(field, fetched_data):\n",
    "    # Select Field From Fetched Data\n",
    "    if fetched_data[field]:\n",
    "        if type(fetched_data[field]) == str:\n",
    "            try:\n",
    "                output = str(fetched_data[field])\n",
    "            except:\n",
    "                output = fetched_data[field]\n",
    "        else:\n",
    "            output = str(fetched_data[field])\n",
    "        output = output.replace(\"'\",'').replace(\", \",'/').replace(\",\",'/').replace('[','').replace(']','')\n",
    "        if output == \" \" or output == \"\":\n",
    "            output = \"None\"\n",
    "    else:\n",
    "        output = \"None\"\n",
    "    return output"
   ]
  },
  {
   "cell_type": "code",
   "execution_count": 4,
   "id": "bf100962-2ea0-4c08-a449-b87ad601aaee",
   "metadata": {},
   "outputs": [],
   "source": [
    "with open (\"8K_github_username.txt\", \"r\", encoding=\"utf8\") as f:\n",
    "    all_username = f.readlines()\n",
    "\n",
    "with open (\"not_a_user_or_no_data.txt\", \"r\", encoding=\"utf8\") as f:\n",
    "    not_a_user_or_no_data = f.readlines()\n",
    "\n",
    "for user in not_a_user_or_no_data:\n",
    "    all_username.remove(user)"
   ]
  },
  {
   "cell_type": "code",
   "execution_count": 5,
   "id": "d13aeed2-7aae-4038-9e04-1479ed8875e4",
   "metadata": {},
   "outputs": [],
   "source": [
    "all_username = [x.strip() for x in all_username]\n",
    "first_half = all_username[:4999]\n",
    "second_half = all_username[4999:]"
   ]
  },
  {
   "cell_type": "code",
   "execution_count": 6,
   "id": "48500b2c-99f1-4b19-86a5-0db6ccad342d",
   "metadata": {},
   "outputs": [],
   "source": [
    "def CollectUserStarredData(writer, username, c):\n",
    "\n",
    "    user_alias = \"usr\"+str(c)\n",
    "\n",
    "    fetched_starred_data = FetchDataFromGitHubRestApi(\"https://api.github.com/users/\"+username+\"/starred?per_page=100&sort=updated\")\n",
    "\n",
    "    for starred in fetched_starred_data:\n",
    "        try:\n",
    "            full_name = Select(\"full_name\", starred)\n",
    "            html_url = Select(\"html_url\", starred)\n",
    "            description = Select(\"description\", starred)\n",
    "            language = Select(\"language\", starred)\n",
    "            topics = Select(\"topics\", starred)\n",
    "            stargazers_count = Select(\"stargazers_count\", starred)\n",
    "            writer.writerow([user_alias, full_name, html_url, description, language, topics, stargazers_count])\n",
    "        except:\n",
    "            writer.writerow([user_alias, \"None\", \"None\", \"None\", \"None\", \"None\", \"None\"])"
   ]
  },
  {
   "cell_type": "code",
   "execution_count": 7,
   "id": "cd31259a-17d8-432a-a8d3-e74893286af1",
   "metadata": {},
   "outputs": [
    {
     "name": "stdout",
     "output_type": "stream",
     "text": [
      "start time:  21 : 0\n"
     ]
    }
   ],
   "source": [
    "print(\"start time: \",datetime.datetime.now().hour,\":\", datetime.datetime.now().minute)"
   ]
  },
  {
   "cell_type": "code",
   "execution_count": 8,
   "id": "3e56f815-f9e2-4d35-9f62-280e1c0dbbff",
   "metadata": {},
   "outputs": [
    {
     "data": {
      "application/vnd.jupyter.widget-view+json": {
       "model_id": "14bcc121a7dd4b6ea631302a35608c05",
       "version_major": 2,
       "version_minor": 0
      },
      "text/plain": [
       "  0%|          | 0/4999 [00:00<?, ?it/s]"
      ]
     },
     "metadata": {},
     "output_type": "display_data"
    },
    {
     "name": "stdout",
     "output_type": "stream",
     "text": [
      "first half complete!\n",
      "wait for request limit\n",
      "wait_time =  8\n"
     ]
    },
    {
     "data": {
      "application/vnd.jupyter.widget-view+json": {
       "model_id": "ea208a503ccc4f9eb4eab6a4d363ef32",
       "version_major": 2,
       "version_minor": 0
      },
      "text/plain": [
       "  0%|          | 0/8 [00:00<?, ?it/s]"
      ]
     },
     "metadata": {},
     "output_type": "display_data"
    },
    {
     "name": "stdout",
     "output_type": "stream",
     "text": [
      "request limit = 4999\n"
     ]
    },
    {
     "data": {
      "application/vnd.jupyter.widget-view+json": {
       "model_id": "236b6c7095d2464284a2f52d9b810419",
       "version_major": 2,
       "version_minor": 0
      },
      "text/plain": [
       "  0%|          | 0/3584 [00:00<?, ?it/s]"
      ]
     },
     "metadata": {},
     "output_type": "display_data"
    },
    {
     "name": "stdout",
     "output_type": "stream",
     "text": [
      "second half complete!\n"
     ]
    }
   ],
   "source": [
    "with open('all_user_starred_data.csv', 'w', newline='', encoding='utf8') as f:\n",
    "    \n",
    "    writer = csv.writer(f)\n",
    "    \n",
    "    writer.writerow([\"user_alias\", \"full_name\", \"html_url\", \"description\", \"language\", \"topics\", \"stargazers_count\"])\n",
    "\n",
    "    c = 0\n",
    "    for username in notebook.tqdm(first_half):\n",
    "        try:\n",
    "            CollectUserStarredData(writer, username, c)\n",
    "        except:\n",
    "            pass\n",
    "        c+=1\n",
    "\n",
    "    print(\"first half complete!\")\n",
    "\n",
    "    print(\"wait for request limit\")\n",
    "    wait_time = 60 - datetime.datetime.now().minute\n",
    "    print(\"wait_time = \", wait_time+1)\n",
    "    for n in notebook.tqdm(range(wait_time+1)):\n",
    "        time.sleep(60)\n",
    "    print(\"request limit = 4999\")\n",
    "    \n",
    "    for username in notebook.tqdm(second_half):\n",
    "        try:\n",
    "            CollectUserStarredData(writer, username, c)\n",
    "        except:\n",
    "            pass\n",
    "        c+=1\n",
    "\n",
    "print(\"second half complete!\")"
   ]
  },
  {
   "cell_type": "code",
   "execution_count": 9,
   "id": "dba2fffb-39c3-4050-a756-848f6530473b",
   "metadata": {},
   "outputs": [
    {
     "name": "stdout",
     "output_type": "stream",
     "text": [
      "stop time:  22 : 39\n"
     ]
    }
   ],
   "source": [
    "print(\"stop time: \",datetime.datetime.now().hour,\":\", datetime.datetime.now().minute)"
   ]
  }
 ],
 "metadata": {
  "kernelspec": {
   "display_name": "Python 3 (ipykernel)",
   "language": "python",
   "name": "python3"
  },
  "language_info": {
   "codemirror_mode": {
    "name": "ipython",
    "version": 3
   },
   "file_extension": ".py",
   "mimetype": "text/x-python",
   "name": "python",
   "nbconvert_exporter": "python",
   "pygments_lexer": "ipython3",
   "version": "3.10.10"
  }
 },
 "nbformat": 4,
 "nbformat_minor": 5
}
