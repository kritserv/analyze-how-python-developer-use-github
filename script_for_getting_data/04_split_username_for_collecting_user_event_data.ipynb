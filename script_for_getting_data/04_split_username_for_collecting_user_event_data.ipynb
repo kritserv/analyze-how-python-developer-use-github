{
 "cells": [
  {
   "cell_type": "code",
   "execution_count": 1,
   "id": "a4356dd7-7cc5-433b-9c16-0073d839cfdd",
   "metadata": {},
   "outputs": [],
   "source": [
    "import pandas as pd\n",
    "from datetime import datetime, timedelta\n",
    "import pytz"
   ]
  },
  {
   "cell_type": "code",
   "execution_count": 2,
   "id": "e5fd8675-c029-42c2-93d4-b2b1766e447d",
   "metadata": {},
   "outputs": [],
   "source": [
    "with open (\"8K_github_username.txt\", \"r\", encoding=\"utf8\") as f:\n",
    "    all_username = f.readlines()"
   ]
  },
  {
   "cell_type": "code",
   "execution_count": 3,
   "id": "7d8e189f-4bd8-4d78-8280-c71c0eb966ab",
   "metadata": {},
   "outputs": [],
   "source": [
    "with open (\"not_a_user_or_no_data.txt\", \"r\", encoding=\"utf8\") as f:\n",
    "    not_a_user_or_no_data = f.readlines()"
   ]
  },
  {
   "cell_type": "code",
   "execution_count": 4,
   "id": "ae44c493-bc29-41f7-902c-81c5ae829381",
   "metadata": {},
   "outputs": [],
   "source": [
    "for user in not_a_user_or_no_data:\n",
    "    all_username.remove(user)"
   ]
  },
  {
   "cell_type": "code",
   "execution_count": 5,
   "id": "2e4c6a94-983e-4720-9018-d948ab9a6333",
   "metadata": {},
   "outputs": [],
   "source": [
    "all_username = [x.strip() for x in all_username]"
   ]
  },
  {
   "cell_type": "code",
   "execution_count": 6,
   "id": "a6902118-388f-460f-b201-3869648d213d",
   "metadata": {},
   "outputs": [],
   "source": [
    "profile_df = pd.read_csv(\"all_user_profile_data.csv\")"
   ]
  },
  {
   "cell_type": "markdown",
   "id": "27d25a80-a3c4-4faa-bbcb-a835e8966f5b",
   "metadata": {},
   "source": [
    "since github rest api keeps user event data for 90 days, I'm going to remove user without event data by querying in \"updated_at\" column using pandas."
   ]
  },
  {
   "cell_type": "code",
   "execution_count": 7,
   "id": "cc730aa3-786f-4be9-adfd-39b10b10cff6",
   "metadata": {},
   "outputs": [
    {
     "name": "stdout",
     "output_type": "stream",
     "text": [
      "today:  14 / 1 / 2024\n"
     ]
    }
   ],
   "source": [
    "print(\"today: \",datetime.now().day, '/', datetime.now().month, '/', datetime.now().year)"
   ]
  },
  {
   "cell_type": "code",
   "execution_count": 8,
   "id": "3042e75a-becb-4588-b945-eea7ca3434b1",
   "metadata": {},
   "outputs": [
    {
     "data": {
      "text/html": [
       "<div>\n",
       "<style scoped>\n",
       "    .dataframe tbody tr th:only-of-type {\n",
       "        vertical-align: middle;\n",
       "    }\n",
       "\n",
       "    .dataframe tbody tr th {\n",
       "        vertical-align: top;\n",
       "    }\n",
       "\n",
       "    .dataframe thead th {\n",
       "        text-align: right;\n",
       "    }\n",
       "</style>\n",
       "<table border=\"1\" class=\"dataframe\">\n",
       "  <thead>\n",
       "    <tr style=\"text-align: right;\">\n",
       "      <th></th>\n",
       "      <th>user_alias</th>\n",
       "      <th>type</th>\n",
       "      <th>hireable</th>\n",
       "      <th>location</th>\n",
       "      <th>followers</th>\n",
       "      <th>following</th>\n",
       "      <th>public_repos</th>\n",
       "      <th>public_gists</th>\n",
       "      <th>created_at</th>\n",
       "      <th>updated_at</th>\n",
       "    </tr>\n",
       "  </thead>\n",
       "  <tbody>\n",
       "    <tr>\n",
       "      <th>0</th>\n",
       "      <td>usr0</td>\n",
       "      <td>User</td>\n",
       "      <td>NaN</td>\n",
       "      <td>NaN</td>\n",
       "      <td>2.0</td>\n",
       "      <td>7.0</td>\n",
       "      <td>43.0</td>\n",
       "      <td>NaN</td>\n",
       "      <td>2020-09-07T23:54:51Z</td>\n",
       "      <td>2023-10-05T18:16:01Z</td>\n",
       "    </tr>\n",
       "    <tr>\n",
       "      <th>1</th>\n",
       "      <td>usr1</td>\n",
       "      <td>User</td>\n",
       "      <td>NaN</td>\n",
       "      <td>Tbilisi</td>\n",
       "      <td>3.0</td>\n",
       "      <td>4.0</td>\n",
       "      <td>16.0</td>\n",
       "      <td>NaN</td>\n",
       "      <td>2011-04-16T12:30:37Z</td>\n",
       "      <td>2024-01-08T13:45:16Z</td>\n",
       "    </tr>\n",
       "    <tr>\n",
       "      <th>2</th>\n",
       "      <td>usr2</td>\n",
       "      <td>User</td>\n",
       "      <td>NaN</td>\n",
       "      <td>Karachi</td>\n",
       "      <td>13.0</td>\n",
       "      <td>23.0</td>\n",
       "      <td>44.0</td>\n",
       "      <td>NaN</td>\n",
       "      <td>2023-01-03T13:56:42Z</td>\n",
       "      <td>2023-12-24T05:10:36Z</td>\n",
       "    </tr>\n",
       "    <tr>\n",
       "      <th>3</th>\n",
       "      <td>usr3</td>\n",
       "      <td>User</td>\n",
       "      <td>True</td>\n",
       "      <td>Karachi</td>\n",
       "      <td>NaN</td>\n",
       "      <td>NaN</td>\n",
       "      <td>5.0</td>\n",
       "      <td>NaN</td>\n",
       "      <td>2021-09-24T09:04:40Z</td>\n",
       "      <td>2023-05-02T19:11:00Z</td>\n",
       "    </tr>\n",
       "    <tr>\n",
       "      <th>4</th>\n",
       "      <td>usr4</td>\n",
       "      <td>User</td>\n",
       "      <td>NaN</td>\n",
       "      <td>NaN</td>\n",
       "      <td>1.0</td>\n",
       "      <td>NaN</td>\n",
       "      <td>2.0</td>\n",
       "      <td>NaN</td>\n",
       "      <td>2022-10-07T11:01:08Z</td>\n",
       "      <td>2023-12-07T20:03:36Z</td>\n",
       "    </tr>\n",
       "  </tbody>\n",
       "</table>\n",
       "</div>"
      ],
      "text/plain": [
       "  user_alias  type hireable location  followers  following  public_repos  \\\n",
       "0       usr0  User      NaN      NaN        2.0        7.0          43.0   \n",
       "1       usr1  User      NaN  Tbilisi        3.0        4.0          16.0   \n",
       "2       usr2  User      NaN  Karachi       13.0       23.0          44.0   \n",
       "3       usr3  User     True  Karachi        NaN        NaN           5.0   \n",
       "4       usr4  User      NaN      NaN        1.0        NaN           2.0   \n",
       "\n",
       "   public_gists            created_at            updated_at  \n",
       "0           NaN  2020-09-07T23:54:51Z  2023-10-05T18:16:01Z  \n",
       "1           NaN  2011-04-16T12:30:37Z  2024-01-08T13:45:16Z  \n",
       "2           NaN  2023-01-03T13:56:42Z  2023-12-24T05:10:36Z  \n",
       "3           NaN  2021-09-24T09:04:40Z  2023-05-02T19:11:00Z  \n",
       "4           NaN  2022-10-07T11:01:08Z  2023-12-07T20:03:36Z  "
      ]
     },
     "execution_count": 8,
     "metadata": {},
     "output_type": "execute_result"
    }
   ],
   "source": [
    "profile_df.head()"
   ]
  },
  {
   "cell_type": "code",
   "execution_count": 9,
   "id": "4d1cad7f-01cd-401d-94f9-3fc28365fafe",
   "metadata": {},
   "outputs": [
    {
     "data": {
      "text/html": [
       "<div>\n",
       "<style scoped>\n",
       "    .dataframe tbody tr th:only-of-type {\n",
       "        vertical-align: middle;\n",
       "    }\n",
       "\n",
       "    .dataframe tbody tr th {\n",
       "        vertical-align: top;\n",
       "    }\n",
       "\n",
       "    .dataframe thead th {\n",
       "        text-align: right;\n",
       "    }\n",
       "</style>\n",
       "<table border=\"1\" class=\"dataframe\">\n",
       "  <thead>\n",
       "    <tr style=\"text-align: right;\">\n",
       "      <th></th>\n",
       "      <th>user_alias</th>\n",
       "      <th>type</th>\n",
       "      <th>hireable</th>\n",
       "      <th>location</th>\n",
       "      <th>followers</th>\n",
       "      <th>following</th>\n",
       "      <th>public_repos</th>\n",
       "      <th>public_gists</th>\n",
       "      <th>created_at</th>\n",
       "      <th>updated_at</th>\n",
       "    </tr>\n",
       "  </thead>\n",
       "  <tbody>\n",
       "    <tr>\n",
       "      <th>0</th>\n",
       "      <td>usr0</td>\n",
       "      <td>User</td>\n",
       "      <td>NaN</td>\n",
       "      <td>NaN</td>\n",
       "      <td>2.0</td>\n",
       "      <td>7.0</td>\n",
       "      <td>43.0</td>\n",
       "      <td>NaN</td>\n",
       "      <td>2020-09-07T23:54:51Z</td>\n",
       "      <td>2023-10-05 18:16:01+00:00</td>\n",
       "    </tr>\n",
       "    <tr>\n",
       "      <th>1</th>\n",
       "      <td>usr1</td>\n",
       "      <td>User</td>\n",
       "      <td>NaN</td>\n",
       "      <td>Tbilisi</td>\n",
       "      <td>3.0</td>\n",
       "      <td>4.0</td>\n",
       "      <td>16.0</td>\n",
       "      <td>NaN</td>\n",
       "      <td>2011-04-16T12:30:37Z</td>\n",
       "      <td>2024-01-08 13:45:16+00:00</td>\n",
       "    </tr>\n",
       "    <tr>\n",
       "      <th>2</th>\n",
       "      <td>usr2</td>\n",
       "      <td>User</td>\n",
       "      <td>NaN</td>\n",
       "      <td>Karachi</td>\n",
       "      <td>13.0</td>\n",
       "      <td>23.0</td>\n",
       "      <td>44.0</td>\n",
       "      <td>NaN</td>\n",
       "      <td>2023-01-03T13:56:42Z</td>\n",
       "      <td>2023-12-24 05:10:36+00:00</td>\n",
       "    </tr>\n",
       "    <tr>\n",
       "      <th>3</th>\n",
       "      <td>usr3</td>\n",
       "      <td>User</td>\n",
       "      <td>True</td>\n",
       "      <td>Karachi</td>\n",
       "      <td>NaN</td>\n",
       "      <td>NaN</td>\n",
       "      <td>5.0</td>\n",
       "      <td>NaN</td>\n",
       "      <td>2021-09-24T09:04:40Z</td>\n",
       "      <td>2023-05-02 19:11:00+00:00</td>\n",
       "    </tr>\n",
       "    <tr>\n",
       "      <th>4</th>\n",
       "      <td>usr4</td>\n",
       "      <td>User</td>\n",
       "      <td>NaN</td>\n",
       "      <td>NaN</td>\n",
       "      <td>1.0</td>\n",
       "      <td>NaN</td>\n",
       "      <td>2.0</td>\n",
       "      <td>NaN</td>\n",
       "      <td>2022-10-07T11:01:08Z</td>\n",
       "      <td>2023-12-07 20:03:36+00:00</td>\n",
       "    </tr>\n",
       "  </tbody>\n",
       "</table>\n",
       "</div>"
      ],
      "text/plain": [
       "  user_alias  type hireable location  followers  following  public_repos  \\\n",
       "0       usr0  User      NaN      NaN        2.0        7.0          43.0   \n",
       "1       usr1  User      NaN  Tbilisi        3.0        4.0          16.0   \n",
       "2       usr2  User      NaN  Karachi       13.0       23.0          44.0   \n",
       "3       usr3  User     True  Karachi        NaN        NaN           5.0   \n",
       "4       usr4  User      NaN      NaN        1.0        NaN           2.0   \n",
       "\n",
       "   public_gists            created_at                updated_at  \n",
       "0           NaN  2020-09-07T23:54:51Z 2023-10-05 18:16:01+00:00  \n",
       "1           NaN  2011-04-16T12:30:37Z 2024-01-08 13:45:16+00:00  \n",
       "2           NaN  2023-01-03T13:56:42Z 2023-12-24 05:10:36+00:00  \n",
       "3           NaN  2021-09-24T09:04:40Z 2023-05-02 19:11:00+00:00  \n",
       "4           NaN  2022-10-07T11:01:08Z 2023-12-07 20:03:36+00:00  "
      ]
     },
     "execution_count": 9,
     "metadata": {},
     "output_type": "execute_result"
    }
   ],
   "source": [
    "profile_df['updated_at'] = pd.to_datetime(profile_df['updated_at'])\n",
    "profile_df.head()"
   ]
  },
  {
   "cell_type": "code",
   "execution_count": 10,
   "id": "a0e336af-9f1d-48e9-9efc-b1bcf4a00a52",
   "metadata": {},
   "outputs": [],
   "source": [
    "_90_days_ago = datetime(2024, 1, 14, tzinfo=pytz.UTC) - timedelta(days=90)"
   ]
  },
  {
   "cell_type": "code",
   "execution_count": 11,
   "id": "0de047b4-3754-4d1c-8adb-a323f2cc1e15",
   "metadata": {},
   "outputs": [],
   "source": [
    "filtered_df = profile_df[profile_df['updated_at'] > _90_days_ago]"
   ]
  },
  {
   "cell_type": "code",
   "execution_count": 12,
   "id": "006521ef-6367-4763-86c6-c1e4950dc2fe",
   "metadata": {},
   "outputs": [
    {
     "data": {
      "text/html": [
       "<div>\n",
       "<style scoped>\n",
       "    .dataframe tbody tr th:only-of-type {\n",
       "        vertical-align: middle;\n",
       "    }\n",
       "\n",
       "    .dataframe tbody tr th {\n",
       "        vertical-align: top;\n",
       "    }\n",
       "\n",
       "    .dataframe thead th {\n",
       "        text-align: right;\n",
       "    }\n",
       "</style>\n",
       "<table border=\"1\" class=\"dataframe\">\n",
       "  <thead>\n",
       "    <tr style=\"text-align: right;\">\n",
       "      <th></th>\n",
       "      <th>user_alias</th>\n",
       "      <th>type</th>\n",
       "      <th>hireable</th>\n",
       "      <th>location</th>\n",
       "      <th>followers</th>\n",
       "      <th>following</th>\n",
       "      <th>public_repos</th>\n",
       "      <th>public_gists</th>\n",
       "      <th>created_at</th>\n",
       "      <th>updated_at</th>\n",
       "    </tr>\n",
       "  </thead>\n",
       "  <tbody>\n",
       "    <tr>\n",
       "      <th>1</th>\n",
       "      <td>usr1</td>\n",
       "      <td>User</td>\n",
       "      <td>NaN</td>\n",
       "      <td>Tbilisi</td>\n",
       "      <td>3.0</td>\n",
       "      <td>4.0</td>\n",
       "      <td>16.0</td>\n",
       "      <td>NaN</td>\n",
       "      <td>2011-04-16T12:30:37Z</td>\n",
       "      <td>2024-01-08 13:45:16+00:00</td>\n",
       "    </tr>\n",
       "    <tr>\n",
       "      <th>2</th>\n",
       "      <td>usr2</td>\n",
       "      <td>User</td>\n",
       "      <td>NaN</td>\n",
       "      <td>Karachi</td>\n",
       "      <td>13.0</td>\n",
       "      <td>23.0</td>\n",
       "      <td>44.0</td>\n",
       "      <td>NaN</td>\n",
       "      <td>2023-01-03T13:56:42Z</td>\n",
       "      <td>2023-12-24 05:10:36+00:00</td>\n",
       "    </tr>\n",
       "    <tr>\n",
       "      <th>4</th>\n",
       "      <td>usr4</td>\n",
       "      <td>User</td>\n",
       "      <td>NaN</td>\n",
       "      <td>NaN</td>\n",
       "      <td>1.0</td>\n",
       "      <td>NaN</td>\n",
       "      <td>2.0</td>\n",
       "      <td>NaN</td>\n",
       "      <td>2022-10-07T11:01:08Z</td>\n",
       "      <td>2023-12-07 20:03:36+00:00</td>\n",
       "    </tr>\n",
       "    <tr>\n",
       "      <th>5</th>\n",
       "      <td>usr5</td>\n",
       "      <td>User</td>\n",
       "      <td>True</td>\n",
       "      <td>Remote</td>\n",
       "      <td>NaN</td>\n",
       "      <td>6.0</td>\n",
       "      <td>22.0</td>\n",
       "      <td>7.0</td>\n",
       "      <td>2022-06-02T04:04:01Z</td>\n",
       "      <td>2023-12-21 10:06:23+00:00</td>\n",
       "    </tr>\n",
       "    <tr>\n",
       "      <th>6</th>\n",
       "      <td>usr6</td>\n",
       "      <td>User</td>\n",
       "      <td>True</td>\n",
       "      <td>NaN</td>\n",
       "      <td>1.0</td>\n",
       "      <td>2.0</td>\n",
       "      <td>19.0</td>\n",
       "      <td>NaN</td>\n",
       "      <td>2021-08-20T19:03:28Z</td>\n",
       "      <td>2023-12-18 08:21:10+00:00</td>\n",
       "    </tr>\n",
       "  </tbody>\n",
       "</table>\n",
       "</div>"
      ],
      "text/plain": [
       "  user_alias  type hireable location  followers  following  public_repos  \\\n",
       "1       usr1  User      NaN  Tbilisi        3.0        4.0          16.0   \n",
       "2       usr2  User      NaN  Karachi       13.0       23.0          44.0   \n",
       "4       usr4  User      NaN      NaN        1.0        NaN           2.0   \n",
       "5       usr5  User     True   Remote        NaN        6.0          22.0   \n",
       "6       usr6  User     True      NaN        1.0        2.0          19.0   \n",
       "\n",
       "   public_gists            created_at                updated_at  \n",
       "1           NaN  2011-04-16T12:30:37Z 2024-01-08 13:45:16+00:00  \n",
       "2           NaN  2023-01-03T13:56:42Z 2023-12-24 05:10:36+00:00  \n",
       "4           NaN  2022-10-07T11:01:08Z 2023-12-07 20:03:36+00:00  \n",
       "5           7.0  2022-06-02T04:04:01Z 2023-12-21 10:06:23+00:00  \n",
       "6           NaN  2021-08-20T19:03:28Z 2023-12-18 08:21:10+00:00  "
      ]
     },
     "execution_count": 12,
     "metadata": {},
     "output_type": "execute_result"
    }
   ],
   "source": [
    "filtered_df.head()"
   ]
  },
  {
   "cell_type": "code",
   "execution_count": 13,
   "id": "9476ba53-c31d-4987-96a7-8b2fbb45de97",
   "metadata": {},
   "outputs": [
    {
     "name": "stdout",
     "output_type": "stream",
     "text": [
      "before:  8583 \n",
      "after:  5844\n"
     ]
    }
   ],
   "source": [
    "print(\"before: \", len(profile_df), \"\\nafter: \", len(filtered_df))"
   ]
  },
  {
   "cell_type": "code",
   "execution_count": 14,
   "id": "543346a9-60eb-492d-96a4-3ea92eb25548",
   "metadata": {},
   "outputs": [],
   "source": [
    "filtered_username = filtered_df['user_alias'].values.tolist()"
   ]
  },
  {
   "cell_type": "code",
   "execution_count": 15,
   "id": "ad9a5eb2-0750-4d7e-a333-6907e13bb1a0",
   "metadata": {},
   "outputs": [],
   "source": [
    "username_dict = {}"
   ]
  },
  {
   "cell_type": "code",
   "execution_count": 16,
   "id": "bd349f31-a688-4da7-a260-d7505a9f1e7d",
   "metadata": {},
   "outputs": [],
   "source": [
    "username_alias = [\"usr\"+str(x) for x in range(len(all_username))]"
   ]
  },
  {
   "cell_type": "code",
   "execution_count": 17,
   "id": "18d8483b-ad91-40e8-9f77-160c88592cd8",
   "metadata": {},
   "outputs": [],
   "source": [
    "for i in range(len(username_alias)):\n",
    "    username_dict[username_alias[i]] = all_username[i]"
   ]
  },
  {
   "cell_type": "code",
   "execution_count": 18,
   "id": "44f309a7-4bb7-489a-a14e-dc6d7d98148c",
   "metadata": {},
   "outputs": [
    {
     "data": {
      "text/plain": [
       "208.71428571428572"
      ]
     },
     "execution_count": 18,
     "metadata": {},
     "output_type": "execute_result"
    }
   ],
   "source": [
    "amount_of_username_in_each_dataset = len(filtered_username)/28\n",
    "amount_of_username_in_each_dataset"
   ]
  },
  {
   "cell_type": "code",
   "execution_count": 19,
   "id": "42d63460-0c90-47ec-9501-e292f3f42a3a",
   "metadata": {},
   "outputs": [
    {
     "name": "stdout",
     "output_type": "stream",
     "text": [
      "min:  3.4785714285714286 hrs \n",
      "max:  10.435714285714287 hrs\n"
     ]
    }
   ],
   "source": [
    "amount_of_request_time_in_each_dataset = amount_of_username_in_each_dataset/60\n",
    "print(\"min: \", amount_of_request_time_in_each_dataset, \"hrs\",\n",
    "      \"\\nmax: \", amount_of_request_time_in_each_dataset*3, \"hrs\")\n",
    "\n",
    "# GitHub only keeps each user event data for 300 events, \n",
    "# and with limitation of 100 events per page, request can went up to 3 pages\")"
   ]
  },
  {
   "cell_type": "markdown",
   "id": "866788ff-e3a0-4ae3-a016-23f1cbdb0d10",
   "metadata": {},
   "source": [
    "split all username to 28 dataset, for running script simultaneously:\n",
    "\n",
    "<ul>\n",
    "<li>Locally in My Desktop PC,</li>\n",
    "<li>Google Colab in My Desktop PC,</li>\n",
    "<li>Locally in My Laptop,</li>\n",
    "<li>Google Colab in My Laptop</li>\n",
    "</ul>\n",
    "\n",
    "Repeating process 7 times in each device, since Google Colab can run for a maximum of 12 hours\n",
    "\n",
    "GitHub Rest API bottlenecks request limit of user event data with X poll interval for 1 min per requests, meaning I can request for maximum of 60 requests per hr, which is the same amount of request limit for unauthenticated user, so there's no need to use my GitHub token in this process, just have to use different IP address."
   ]
  },
  {
   "cell_type": "code",
   "execution_count": 20,
   "id": "008ce4f1-cc8d-4dbc-aa27-52c7cea205cf",
   "metadata": {},
   "outputs": [],
   "source": [
    "split_size = round(amount_of_username_in_each_dataset)\n",
    "split_list = []\n",
    "while filtered_username:\n",
    "    split, filtered_username = filtered_username[:split_size], filtered_username[split_size:]\n",
    "    split_list.append(split)"
   ]
  },
  {
   "cell_type": "code",
   "execution_count": 21,
   "id": "20bfd1da-e65a-46d4-b6aa-9fe7bd48b1ef",
   "metadata": {},
   "outputs": [
    {
     "data": {
      "text/plain": [
       "28"
      ]
     },
     "execution_count": 21,
     "metadata": {},
     "output_type": "execute_result"
    }
   ],
   "source": [
    "len(split_list)"
   ]
  },
  {
   "cell_type": "code",
   "execution_count": 22,
   "id": "a74512a2-0d34-4da7-8b8a-76adef7aa20b",
   "metadata": {},
   "outputs": [],
   "source": [
    "file_names = [\"username_split\"+str(i)+\".txt\" for i in range(1, 29)]"
   ]
  },
  {
   "cell_type": "code",
   "execution_count": 23,
   "id": "7b792500-7d29-4daf-8343-35753969a6ef",
   "metadata": {},
   "outputs": [
    {
     "name": "stdout",
     "output_type": "stream",
     "text": [
      "done!\n"
     ]
    }
   ],
   "source": [
    "for i in range(len(file_names)):\n",
    "    file_name = file_names[i]\n",
    "    split = split_list[i]\n",
    "    with open (file_name, \"w\", newline=\"\", encoding=\"utf8\") as f:\n",
    "        for username in split:\n",
    "            f.write(username_dict[username]+\"\\n\")\n",
    "print(\"done!\")"
   ]
  }
 ],
 "metadata": {
  "kernelspec": {
   "display_name": "Python 3 (ipykernel)",
   "language": "python",
   "name": "python3"
  },
  "language_info": {
   "codemirror_mode": {
    "name": "ipython",
    "version": 3
   },
   "file_extension": ".py",
   "mimetype": "text/x-python",
   "name": "python",
   "nbconvert_exporter": "python",
   "pygments_lexer": "ipython3",
   "version": "3.10.10"
  }
 },
 "nbformat": 4,
 "nbformat_minor": 5
}
