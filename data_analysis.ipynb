{
 "cells": [
  {
   "cell_type": "markdown",
   "id": "1f22fa1f-bdd3-42e4-b08a-dad66ffa5128",
   "metadata": {},
   "source": [
    "# Import Module and Data"
   ]
  },
  {
   "cell_type": "code",
   "execution_count": 1,
   "id": "51cafcad-1c40-4e2d-9098-3fabc73f9085",
   "metadata": {},
   "outputs": [],
   "source": [
    "import pandas as pd\n",
    "import matplotlib.pyplot as plt\n",
    "import seaborn as sns\n",
    "import numpy as np\n",
    "import statsmodels.api as sm"
   ]
  },
  {
   "cell_type": "code",
   "execution_count": 2,
   "id": "70601896-2800-4860-903f-746edf71d532",
   "metadata": {},
   "outputs": [],
   "source": [
    "event_data = pd.read_csv('data/all_user_event_data.csv')\n",
    "profile_data = pd.read_csv('data/all_user_profile_data.csv')\n",
    "repo_data = pd.read_csv('data/all_user_repo_data.csv')\n",
    "starred_data = pd.read_csv('data/all_user_starred_data.csv')"
   ]
  },
  {
   "cell_type": "code",
   "execution_count": 3,
   "id": "a6ed7fc1-dec9-4cec-ad41-78a85eb89c68",
   "metadata": {},
   "outputs": [],
   "source": [
    "def SelectNumericColumn(df):\n",
    "    return df.select_dtypes(include=[np.number])"
   ]
  },
  {
   "cell_type": "code",
   "execution_count": 4,
   "id": "73e5b3ad-71a3-4d9e-bec9-e7cde10742df",
   "metadata": {},
   "outputs": [],
   "source": [
    "def PlotCorr(df, title):\n",
    "    corr = df.corr()\n",
    "    plt.figure(figsize=(10, 8))\n",
    "    sns.heatmap(corr, annot=True, cmap='coolwarm')\n",
    "    plt.title(title)\n",
    "    plt.show()\n",
    "    return corr"
   ]
  },
  {
   "cell_type": "markdown",
   "id": "7b83280d-2810-4c50-b476-cbb0af195178",
   "metadata": {},
   "source": [
    "# Data Analysis"
   ]
  },
  {
   "cell_type": "markdown",
   "id": "f4fdbe74-5c01-46a6-9109-d27f841d7306",
   "metadata": {},
   "source": [
    "<b>Objective</b>: Get insights into the GitHub activity patterns of GitHub users with a high follower count.\n",
    "\n",
    "The following steps will be undertaken to analyze the relationships:\n",
    "\n",
    "<ul>\n",
    "    <li>1. Determine if there are any disparities in the data fields between users with a high number of followers and those with fewer followers.</li>\n",
    "    <li>2. If differences are found, conduct a detailed analysis to understand how these fields affect the number of followers and the nature of their influence.</li>\n",
    "    <li>3. Visualize the data and perform statistical tests with a focus on significant values to better understand the patterns and trends.</li>\n",
    "    <li>4. Repeat steps 1-3 for each data field.</li>\n",
    "    <li>5. Compile and summarize the findings from each iteration.</li>\n",
    "</ul>"
   ]
  },
  {
   "cell_type": "markdown",
   "id": "3754a11f-efc4-43c5-8c82-b168f1a0d72b",
   "metadata": {},
   "source": [
    "## Selecting High-Follower User"
   ]
  },
  {
   "cell_type": "code",
   "execution_count": 5,
   "id": "e8fad32a-e405-4268-926a-dcb5c805127e",
   "metadata": {},
   "outputs": [],
   "source": [
    "threshold = 4 # Reasons for choosing threshold = 4 can be found in EDA notebook\n",
    "high_follower_users = profile_data[profile_data['followers'] > threshold]"
   ]
  },
  {
   "cell_type": "code",
   "execution_count": 6,
   "id": "8b251095-fbe9-40c4-976d-139be0a653fc",
   "metadata": {},
   "outputs": [
    {
     "data": {
      "text/html": [
       "<div>\n",
       "<style scoped>\n",
       "    .dataframe tbody tr th:only-of-type {\n",
       "        vertical-align: middle;\n",
       "    }\n",
       "\n",
       "    .dataframe tbody tr th {\n",
       "        vertical-align: top;\n",
       "    }\n",
       "\n",
       "    .dataframe thead th {\n",
       "        text-align: right;\n",
       "    }\n",
       "</style>\n",
       "<table border=\"1\" class=\"dataframe\">\n",
       "  <thead>\n",
       "    <tr style=\"text-align: right;\">\n",
       "      <th></th>\n",
       "      <th>user_alias</th>\n",
       "      <th>type</th>\n",
       "      <th>hireable</th>\n",
       "      <th>location</th>\n",
       "      <th>followers</th>\n",
       "      <th>following</th>\n",
       "      <th>public_repos</th>\n",
       "      <th>public_gists</th>\n",
       "      <th>created_at</th>\n",
       "      <th>updated_at</th>\n",
       "    </tr>\n",
       "  </thead>\n",
       "  <tbody>\n",
       "    <tr>\n",
       "      <th>2</th>\n",
       "      <td>usr2</td>\n",
       "      <td>User</td>\n",
       "      <td>NaN</td>\n",
       "      <td>Karachi</td>\n",
       "      <td>13.0</td>\n",
       "      <td>23.0</td>\n",
       "      <td>44.0</td>\n",
       "      <td>NaN</td>\n",
       "      <td>2023-01-03T13:56:42Z</td>\n",
       "      <td>2023-12-24T05:10:36Z</td>\n",
       "    </tr>\n",
       "    <tr>\n",
       "      <th>10</th>\n",
       "      <td>usr10</td>\n",
       "      <td>User</td>\n",
       "      <td>True</td>\n",
       "      <td>Ho Chi Minh City/Viet Nam</td>\n",
       "      <td>126.0</td>\n",
       "      <td>170.0</td>\n",
       "      <td>50.0</td>\n",
       "      <td>17.0</td>\n",
       "      <td>2015-05-07T09:55:21Z</td>\n",
       "      <td>2023-12-14T15:56:05Z</td>\n",
       "    </tr>\n",
       "    <tr>\n",
       "      <th>11</th>\n",
       "      <td>usr11</td>\n",
       "      <td>User</td>\n",
       "      <td>NaN</td>\n",
       "      <td>Valencia/Spain</td>\n",
       "      <td>7.0</td>\n",
       "      <td>4.0</td>\n",
       "      <td>18.0</td>\n",
       "      <td>NaN</td>\n",
       "      <td>2019-03-04T16:50:46Z</td>\n",
       "      <td>2023-11-12T21:11:04Z</td>\n",
       "    </tr>\n",
       "    <tr>\n",
       "      <th>14</th>\n",
       "      <td>usr14</td>\n",
       "      <td>User</td>\n",
       "      <td>NaN</td>\n",
       "      <td>Athens/Greece</td>\n",
       "      <td>8.0</td>\n",
       "      <td>14.0</td>\n",
       "      <td>7.0</td>\n",
       "      <td>NaN</td>\n",
       "      <td>2020-11-11T20:12:32Z</td>\n",
       "      <td>2024-01-04T14:49:09Z</td>\n",
       "    </tr>\n",
       "    <tr>\n",
       "      <th>19</th>\n",
       "      <td>usr19</td>\n",
       "      <td>User</td>\n",
       "      <td>True</td>\n",
       "      <td>Rajshahi/Bangladesh.</td>\n",
       "      <td>15.0</td>\n",
       "      <td>27.0</td>\n",
       "      <td>18.0</td>\n",
       "      <td>NaN</td>\n",
       "      <td>2017-04-16T11:38:35Z</td>\n",
       "      <td>2022-04-07T17:56:46Z</td>\n",
       "    </tr>\n",
       "  </tbody>\n",
       "</table>\n",
       "</div>"
      ],
      "text/plain": [
       "   user_alias  type hireable                   location  followers  following  \\\n",
       "2        usr2  User      NaN                    Karachi       13.0       23.0   \n",
       "10      usr10  User     True  Ho Chi Minh City/Viet Nam      126.0      170.0   \n",
       "11      usr11  User      NaN             Valencia/Spain        7.0        4.0   \n",
       "14      usr14  User      NaN              Athens/Greece        8.0       14.0   \n",
       "19      usr19  User     True       Rajshahi/Bangladesh.       15.0       27.0   \n",
       "\n",
       "    public_repos  public_gists            created_at            updated_at  \n",
       "2           44.0           NaN  2023-01-03T13:56:42Z  2023-12-24T05:10:36Z  \n",
       "10          50.0          17.0  2015-05-07T09:55:21Z  2023-12-14T15:56:05Z  \n",
       "11          18.0           NaN  2019-03-04T16:50:46Z  2023-11-12T21:11:04Z  \n",
       "14           7.0           NaN  2020-11-11T20:12:32Z  2024-01-04T14:49:09Z  \n",
       "19          18.0           NaN  2017-04-16T11:38:35Z  2022-04-07T17:56:46Z  "
      ]
     },
     "execution_count": 6,
     "metadata": {},
     "output_type": "execute_result"
    }
   ],
   "source": [
    "high_follower_users.head()"
   ]
  },
  {
   "cell_type": "code",
   "execution_count": 7,
   "id": "fcb26797-09d0-4f70-99c7-de0a60060a7a",
   "metadata": {},
   "outputs": [
    {
     "data": {
      "text/plain": [
       "2988"
      ]
     },
     "execution_count": 7,
     "metadata": {},
     "output_type": "execute_result"
    }
   ],
   "source": [
    "len(high_follower_users)"
   ]
  },
  {
   "cell_type": "code",
   "execution_count": 8,
   "id": "f51ab76d-7305-465a-b67e-c83b786d2b7a",
   "metadata": {},
   "outputs": [],
   "source": [
    "high_follower_aliases = high_follower_users['user_alias']"
   ]
  },
  {
   "cell_type": "code",
   "execution_count": 9,
   "id": "1cf8bc8c-ba5a-445e-b73d-7fe92d8c53ae",
   "metadata": {},
   "outputs": [
    {
     "data": {
      "text/plain": [
       "2      usr2\n",
       "10    usr10\n",
       "11    usr11\n",
       "14    usr14\n",
       "19    usr19\n",
       "Name: user_alias, dtype: object"
      ]
     },
     "execution_count": 9,
     "metadata": {},
     "output_type": "execute_result"
    }
   ],
   "source": [
    "high_follower_aliases.head()"
   ]
  },
  {
   "cell_type": "code",
   "execution_count": 10,
   "id": "59da6db2-baf0-4f0a-a32e-29095df47b3e",
   "metadata": {},
   "outputs": [],
   "source": [
    "high_follower_event_data = event_data[event_data['user_alias'].isin(high_follower_aliases)]\n",
    "high_follower_repo_data = repo_data[repo_data['user_alias'].isin(high_follower_aliases)]\n",
    "high_follower_starred_data = starred_data[starred_data['user_alias'].isin(high_follower_aliases)]"
   ]
  },
  {
   "cell_type": "markdown",
   "id": "81b6f00c-4e36-4059-b935-107bbb5866d7",
   "metadata": {},
   "source": [
    "## Analyze The Relationship"
   ]
  },
  {
   "cell_type": "markdown",
   "id": "f9c43d68-5c51-47ae-b397-b7d11f393b9b",
   "metadata": {},
   "source": [
    "### Profile Data"
   ]
  },
  {
   "cell_type": "markdown",
   "id": "6054e9ed-3f3e-4d60-8b49-165ea317ff2b",
   "metadata": {},
   "source": [
    "#### Correlation Analysis"
   ]
  },
  {
   "cell_type": "code",
   "execution_count": 11,
   "id": "b85d0343-a5e9-4277-8c9c-45c04d80a195",
   "metadata": {},
   "outputs": [
    {
     "data": {
      "text/html": [
       "<div>\n",
       "<style scoped>\n",
       "    .dataframe tbody tr th:only-of-type {\n",
       "        vertical-align: middle;\n",
       "    }\n",
       "\n",
       "    .dataframe tbody tr th {\n",
       "        vertical-align: top;\n",
       "    }\n",
       "\n",
       "    .dataframe thead th {\n",
       "        text-align: right;\n",
       "    }\n",
       "</style>\n",
       "<table border=\"1\" class=\"dataframe\">\n",
       "  <thead>\n",
       "    <tr style=\"text-align: right;\">\n",
       "      <th></th>\n",
       "      <th>user_alias</th>\n",
       "      <th>type</th>\n",
       "      <th>hireable</th>\n",
       "      <th>location</th>\n",
       "      <th>followers</th>\n",
       "      <th>following</th>\n",
       "      <th>public_repos</th>\n",
       "      <th>public_gists</th>\n",
       "      <th>created_at</th>\n",
       "      <th>updated_at</th>\n",
       "    </tr>\n",
       "  </thead>\n",
       "  <tbody>\n",
       "    <tr>\n",
       "      <th>0</th>\n",
       "      <td>usr0</td>\n",
       "      <td>User</td>\n",
       "      <td>NaN</td>\n",
       "      <td>NaN</td>\n",
       "      <td>2.0</td>\n",
       "      <td>7.0</td>\n",
       "      <td>43.0</td>\n",
       "      <td>NaN</td>\n",
       "      <td>2020-09-07T23:54:51Z</td>\n",
       "      <td>2023-10-05T18:16:01Z</td>\n",
       "    </tr>\n",
       "    <tr>\n",
       "      <th>1</th>\n",
       "      <td>usr1</td>\n",
       "      <td>User</td>\n",
       "      <td>NaN</td>\n",
       "      <td>Tbilisi</td>\n",
       "      <td>3.0</td>\n",
       "      <td>4.0</td>\n",
       "      <td>16.0</td>\n",
       "      <td>NaN</td>\n",
       "      <td>2011-04-16T12:30:37Z</td>\n",
       "      <td>2024-01-08T13:45:16Z</td>\n",
       "    </tr>\n",
       "    <tr>\n",
       "      <th>2</th>\n",
       "      <td>usr2</td>\n",
       "      <td>User</td>\n",
       "      <td>NaN</td>\n",
       "      <td>Karachi</td>\n",
       "      <td>13.0</td>\n",
       "      <td>23.0</td>\n",
       "      <td>44.0</td>\n",
       "      <td>NaN</td>\n",
       "      <td>2023-01-03T13:56:42Z</td>\n",
       "      <td>2023-12-24T05:10:36Z</td>\n",
       "    </tr>\n",
       "    <tr>\n",
       "      <th>3</th>\n",
       "      <td>usr3</td>\n",
       "      <td>User</td>\n",
       "      <td>True</td>\n",
       "      <td>Karachi</td>\n",
       "      <td>NaN</td>\n",
       "      <td>NaN</td>\n",
       "      <td>5.0</td>\n",
       "      <td>NaN</td>\n",
       "      <td>2021-09-24T09:04:40Z</td>\n",
       "      <td>2023-05-02T19:11:00Z</td>\n",
       "    </tr>\n",
       "    <tr>\n",
       "      <th>4</th>\n",
       "      <td>usr4</td>\n",
       "      <td>User</td>\n",
       "      <td>NaN</td>\n",
       "      <td>NaN</td>\n",
       "      <td>1.0</td>\n",
       "      <td>NaN</td>\n",
       "      <td>2.0</td>\n",
       "      <td>NaN</td>\n",
       "      <td>2022-10-07T11:01:08Z</td>\n",
       "      <td>2023-12-07T20:03:36Z</td>\n",
       "    </tr>\n",
       "  </tbody>\n",
       "</table>\n",
       "</div>"
      ],
      "text/plain": [
       "  user_alias  type hireable location  followers  following  public_repos  \\\n",
       "0       usr0  User      NaN      NaN        2.0        7.0          43.0   \n",
       "1       usr1  User      NaN  Tbilisi        3.0        4.0          16.0   \n",
       "2       usr2  User      NaN  Karachi       13.0       23.0          44.0   \n",
       "3       usr3  User     True  Karachi        NaN        NaN           5.0   \n",
       "4       usr4  User      NaN      NaN        1.0        NaN           2.0   \n",
       "\n",
       "   public_gists            created_at            updated_at  \n",
       "0           NaN  2020-09-07T23:54:51Z  2023-10-05T18:16:01Z  \n",
       "1           NaN  2011-04-16T12:30:37Z  2024-01-08T13:45:16Z  \n",
       "2           NaN  2023-01-03T13:56:42Z  2023-12-24T05:10:36Z  \n",
       "3           NaN  2021-09-24T09:04:40Z  2023-05-02T19:11:00Z  \n",
       "4           NaN  2022-10-07T11:01:08Z  2023-12-07T20:03:36Z  "
      ]
     },
     "execution_count": 11,
     "metadata": {},
     "output_type": "execute_result"
    }
   ],
   "source": [
    "profile_data.head()"
   ]
  },
  {
   "cell_type": "code",
   "execution_count": 12,
   "id": "97babacb-63b5-4bd1-8827-c010d69e023b",
   "metadata": {},
   "outputs": [
    {
     "data": {
      "image/png": "[encoded data removed]",
      "text/plain": [
       "<Figure size 1000x800 with 2 Axes>"
      ]
     },
     "metadata": {},
     "output_type": "display_data"
    }
   ],
   "source": [
    "corr = PlotCorr(SelectNumericColumn(profile_data), title='Correlation Matrix of Each Field in Profile Data')"
   ]
  },
  {
   "cell_type": "code",
   "execution_count": 13,
   "id": "ece44867-769d-462e-b9e1-df289a655323",
   "metadata": {},
   "outputs": [
    {
     "data": {
      "text/html": [
       "<div>\n",
       "<style scoped>\n",
       "    .dataframe tbody tr th:only-of-type {\n",
       "        vertical-align: middle;\n",
       "    }\n",
       "\n",
       "    .dataframe tbody tr th {\n",
       "        vertical-align: top;\n",
       "    }\n",
       "\n",
       "    .dataframe thead th {\n",
       "        text-align: right;\n",
       "    }\n",
       "</style>\n",
       "<table border=\"1\" class=\"dataframe\">\n",
       "  <thead>\n",
       "    <tr style=\"text-align: right;\">\n",
       "      <th></th>\n",
       "      <th>followers</th>\n",
       "      <th>following</th>\n",
       "      <th>public_repos</th>\n",
       "      <th>public_gists</th>\n",
       "    </tr>\n",
       "  </thead>\n",
       "  <tbody>\n",
       "    <tr>\n",
       "      <th>followers</th>\n",
       "      <td>1.000000</td>\n",
       "      <td>0.702345</td>\n",
       "      <td>0.079321</td>\n",
       "      <td>0.255694</td>\n",
       "    </tr>\n",
       "    <tr>\n",
       "      <th>following</th>\n",
       "      <td>0.702345</td>\n",
       "      <td>1.000000</td>\n",
       "      <td>0.050371</td>\n",
       "      <td>0.008656</td>\n",
       "    </tr>\n",
       "    <tr>\n",
       "      <th>public_repos</th>\n",
       "      <td>0.079321</td>\n",
       "      <td>0.050371</td>\n",
       "      <td>1.000000</td>\n",
       "      <td>0.129804</td>\n",
       "    </tr>\n",
       "    <tr>\n",
       "      <th>public_gists</th>\n",
       "      <td>0.255694</td>\n",
       "      <td>0.008656</td>\n",
       "      <td>0.129804</td>\n",
       "      <td>1.000000</td>\n",
       "    </tr>\n",
       "  </tbody>\n",
       "</table>\n",
       "</div>"
      ],
      "text/plain": [
       "              followers  following  public_repos  public_gists\n",
       "followers      1.000000   0.702345      0.079321      0.255694\n",
       "following      0.702345   1.000000      0.050371      0.008656\n",
       "public_repos   0.079321   0.050371      1.000000      0.129804\n",
       "public_gists   0.255694   0.008656      0.129804      1.000000"
      ]
     },
     "execution_count": 13,
     "metadata": {},
     "output_type": "execute_result"
    }
   ],
   "source": [
    "corr"
   ]
  },
  {
   "cell_type": "code",
   "execution_count": 14,
   "id": "00b47c6b-f278-4a76-ab9d-f5a4bd06fbad",
   "metadata": {},
   "outputs": [
    {
     "data": {
      "image/png": "[encoded data removed]",
      "text/plain": [
       "<Figure size 1000x800 with 2 Axes>"
      ]
     },
     "metadata": {},
     "output_type": "display_data"
    }
   ],
   "source": [
    "corr = PlotCorr(SelectNumericColumn(high_follower_users), title='Correlation Matrix of Each Field in High-Follower User Profile Data')"
   ]
  },
  {
   "cell_type": "code",
   "execution_count": 15,
   "id": "0fa74a90-58bc-4d6e-a5e5-36e1a8361ebb",
   "metadata": {},
   "outputs": [
    {
     "data": {
      "text/html": [
       "<div>\n",
       "<style scoped>\n",
       "    .dataframe tbody tr th:only-of-type {\n",
       "        vertical-align: middle;\n",
       "    }\n",
       "\n",
       "    .dataframe tbody tr th {\n",
       "        vertical-align: top;\n",
       "    }\n",
       "\n",
       "    .dataframe thead th {\n",
       "        text-align: right;\n",
       "    }\n",
       "</style>\n",
       "<table border=\"1\" class=\"dataframe\">\n",
       "  <thead>\n",
       "    <tr style=\"text-align: right;\">\n",
       "      <th></th>\n",
       "      <th>followers</th>\n",
       "      <th>following</th>\n",
       "      <th>public_repos</th>\n",
       "      <th>public_gists</th>\n",
       "    </tr>\n",
       "  </thead>\n",
       "  <tbody>\n",
       "    <tr>\n",
       "      <th>followers</th>\n",
       "      <td>1.000000</td>\n",
       "      <td>0.700527</td>\n",
       "      <td>0.067412</td>\n",
       "      <td>0.251672</td>\n",
       "    </tr>\n",
       "    <tr>\n",
       "      <th>following</th>\n",
       "      <td>0.700527</td>\n",
       "      <td>1.000000</td>\n",
       "      <td>0.034955</td>\n",
       "      <td>-0.001934</td>\n",
       "    </tr>\n",
       "    <tr>\n",
       "      <th>public_repos</th>\n",
       "      <td>0.067412</td>\n",
       "      <td>0.034955</td>\n",
       "      <td>1.000000</td>\n",
       "      <td>0.110392</td>\n",
       "    </tr>\n",
       "    <tr>\n",
       "      <th>public_gists</th>\n",
       "      <td>0.251672</td>\n",
       "      <td>-0.001934</td>\n",
       "      <td>0.110392</td>\n",
       "      <td>1.000000</td>\n",
       "    </tr>\n",
       "  </tbody>\n",
       "</table>\n",
       "</div>"
      ],
      "text/plain": [
       "              followers  following  public_repos  public_gists\n",
       "followers      1.000000   0.700527      0.067412      0.251672\n",
       "following      0.700527   1.000000      0.034955     -0.001934\n",
       "public_repos   0.067412   0.034955      1.000000      0.110392\n",
       "public_gists   0.251672  -0.001934      0.110392      1.000000"
      ]
     },
     "execution_count": 15,
     "metadata": {},
     "output_type": "execute_result"
    }
   ],
   "source": [
    "corr"
   ]
  },
  {
   "cell_type": "markdown",
   "id": "b89f7432-3b15-4e17-8ff1-5bb23db83861",
   "metadata": {},
   "source": [
    "By analyzing the Correlation Matrix of each field in the profile data of all users and specifically high-follower users, we can observe a significant correlation between the `following` and `followers` fields. A correlation coefficient of 0.702345 and 0.700527 indicates a strong positive relationship, suggesting that as the number of users one follows increases, so does the number of followers they have."
   ]
  },
  {
   "cell_type": "markdown",
   "id": "fc647560-64e7-4c9a-8f16-de9f2a49a2eb",
   "metadata": {},
   "source": [
    "#### Regression Analysis of `following` and `followers`"
   ]
  },
  {
   "cell_type": "code",
   "execution_count": 16,
   "id": "07e3ac2a-fd08-4531-93e2-3bfc090ec4f6",
   "metadata": {},
   "outputs": [],
   "source": [
    "profile_data = profile_data.dropna(subset=['following', 'followers'])"
   ]
  },
  {
   "cell_type": "code",
   "execution_count": 17,
   "id": "e157b95f-4bc7-4b1d-9f2b-0c9871f503f2",
   "metadata": {},
   "outputs": [],
   "source": [
    "X = profile_data['following']\n",
    "y = profile_data['followers']\n",
    "X1 = sm.add_constant(X)\n",
    "\n",
    "model = sm.OLS(y, X1)\n",
    "results = model.fit()"
   ]
  },
  {
   "cell_type": "code",
   "execution_count": 18,
   "id": "ebfebe5b-e5f5-492b-abf7-58ff82a0d85a",
   "metadata": {},
   "outputs": [
    {
     "data": {
      "text/html": [
       "<table class=\"simpletable\">\n",
       "<caption>OLS Regression Results</caption>\n",
       "<tr>\n",
       "  <th>Dep. Variable:</th>        <td>followers</td>    <th>  R-squared:         </th> <td>   0.493</td> \n",
       "</tr>\n",
       "<tr>\n",
       "  <th>Model:</th>                   <td>OLS</td>       <th>  Adj. R-squared:    </th> <td>   0.493</td> \n",
       "</tr>\n",
       "<tr>\n",
       "  <th>Method:</th>             <td>Least Squares</td>  <th>  F-statistic:       </th> <td>   5080.</td> \n",
       "</tr>\n",
       "<tr>\n",
       "  <th>Date:</th>             <td>Mon, 29 Jan 2024</td> <th>  Prob (F-statistic):</th>  <td>  0.00</td>  \n",
       "</tr>\n",
       "<tr>\n",
       "  <th>Time:</th>                 <td>15:54:28</td>     <th>  Log-Likelihood:    </th> <td> -35017.</td> \n",
       "</tr>\n",
       "<tr>\n",
       "  <th>No. Observations:</th>      <td>  5220</td>      <th>  AIC:               </th> <td>7.004e+04</td>\n",
       "</tr>\n",
       "<tr>\n",
       "  <th>Df Residuals:</th>          <td>  5218</td>      <th>  BIC:               </th> <td>7.005e+04</td>\n",
       "</tr>\n",
       "<tr>\n",
       "  <th>Df Model:</th>              <td>     1</td>      <th>                     </th>     <td> </td>    \n",
       "</tr>\n",
       "<tr>\n",
       "  <th>Covariance Type:</th>      <td>nonrobust</td>    <th>                     </th>     <td> </td>    \n",
       "</tr>\n",
       "</table>\n",
       "<table class=\"simpletable\">\n",
       "<tr>\n",
       "      <td></td>         <th>coef</th>     <th>std err</th>      <th>t</th>      <th>P>|t|</th>  <th>[0.025</th>    <th>0.975]</th>  \n",
       "</tr>\n",
       "<tr>\n",
       "  <th>const</th>     <td>    5.7228</td> <td>    2.759</td> <td>    2.074</td> <td> 0.038</td> <td>    0.314</td> <td>   11.132</td>\n",
       "</tr>\n",
       "<tr>\n",
       "  <th>following</th> <td>    0.8106</td> <td>    0.011</td> <td>   71.272</td> <td> 0.000</td> <td>    0.788</td> <td>    0.833</td>\n",
       "</tr>\n",
       "</table>\n",
       "<table class=\"simpletable\">\n",
       "<tr>\n",
       "  <th>Omnibus:</th>       <td>12617.647</td> <th>  Durbin-Watson:     </th>   <td>   2.004</td>   \n",
       "</tr>\n",
       "<tr>\n",
       "  <th>Prob(Omnibus):</th>  <td> 0.000</td>   <th>  Jarque-Bera (JB):  </th> <td>203386733.847</td>\n",
       "</tr>\n",
       "<tr>\n",
       "  <th>Skew:</th>           <td>24.720</td>   <th>  Prob(JB):          </th>   <td>    0.00</td>   \n",
       "</tr>\n",
       "<tr>\n",
       "  <th>Kurtosis:</th>       <td>968.747</td>  <th>  Cond. No.          </th>   <td>    244.</td>   \n",
       "</tr>\n",
       "</table><br/><br/>Notes:<br/>[1] Standard Errors assume that the covariance matrix of the errors is correctly specified."
      ],
      "text/latex": [
       "\\begin{center}\n",
       "\\begin{tabular}{lclc}\n",
       "\\toprule\n",
       "\\textbf{Dep. Variable:}    &    followers     & \\textbf{  R-squared:         } &       0.493    \\\\\n",
       "\\textbf{Model:}            &       OLS        & \\textbf{  Adj. R-squared:    } &       0.493    \\\\\n",
       "\\textbf{Method:}           &  Least Squares   & \\textbf{  F-statistic:       } &       5080.    \\\\\n",
       "\\textbf{Date:}             & Mon, 29 Jan 2024 & \\textbf{  Prob (F-statistic):} &       0.00     \\\\\n",
       "\\textbf{Time:}             &     15:54:28     & \\textbf{  Log-Likelihood:    } &     -35017.    \\\\\n",
       "\\textbf{No. Observations:} &        5220      & \\textbf{  AIC:               } &   7.004e+04    \\\\\n",
       "\\textbf{Df Residuals:}     &        5218      & \\textbf{  BIC:               } &   7.005e+04    \\\\\n",
       "\\textbf{Df Model:}         &           1      & \\textbf{                     } &                \\\\\n",
       "\\textbf{Covariance Type:}  &    nonrobust     & \\textbf{                     } &                \\\\\n",
       "\\bottomrule\n",
       "\\end{tabular}\n",
       "\\begin{tabular}{lcccccc}\n",
       "                   & \\textbf{coef} & \\textbf{std err} & \\textbf{t} & \\textbf{P$> |$t$|$} & \\textbf{[0.025} & \\textbf{0.975]}  \\\\\n",
       "\\midrule\n",
       "\\textbf{const}     &       5.7228  &        2.759     &     2.074  &         0.038        &        0.314    &       11.132     \\\\\n",
       "\\textbf{following} &       0.8106  &        0.011     &    71.272  &         0.000        &        0.788    &        0.833     \\\\\n",
       "\\bottomrule\n",
       "\\end{tabular}\n",
       "\\begin{tabular}{lclc}\n",
       "\\textbf{Omnibus:}       & 12617.647 & \\textbf{  Durbin-Watson:     } &       2.004    \\\\\n",
       "\\textbf{Prob(Omnibus):} &    0.000  & \\textbf{  Jarque-Bera (JB):  } & 203386733.847  \\\\\n",
       "\\textbf{Skew:}          &   24.720  & \\textbf{  Prob(JB):          } &        0.00    \\\\\n",
       "\\textbf{Kurtosis:}      &  968.747  & \\textbf{  Cond. No.          } &        244.    \\\\\n",
       "\\bottomrule\n",
       "\\end{tabular}\n",
       "%\\caption{OLS Regression Results}\n",
       "\\end{center}\n",
       "\n",
       "Notes: \\newline\n",
       " [1] Standard Errors assume that the covariance matrix of the errors is correctly specified."
      ],
      "text/plain": [
       "<class 'statsmodels.iolib.summary.Summary'>\n",
       "\"\"\"\n",
       "                            OLS Regression Results                            \n",
       "==============================================================================\n",
       "Dep. Variable:              followers   R-squared:                       0.493\n",
       "Model:                            OLS   Adj. R-squared:                  0.493\n",
       "Method:                 Least Squares   F-statistic:                     5080.\n",
       "Date:                Mon, 29 Jan 2024   Prob (F-statistic):               0.00\n",
       "Time:                        15:54:28   Log-Likelihood:                -35017.\n",
       "No. Observations:                5220   AIC:                         7.004e+04\n",
       "Df Residuals:                    5218   BIC:                         7.005e+04\n",
       "Df Model:                           1                                         \n",
       "Covariance Type:            nonrobust                                         \n",
       "==============================================================================\n",
       "                 coef    std err          t      P>|t|      [0.025      0.975]\n",
       "------------------------------------------------------------------------------\n",
       "const          5.7228      2.759      2.074      0.038       0.314      11.132\n",
       "following      0.8106      0.011     71.272      0.000       0.788       0.833\n",
       "==============================================================================\n",
       "Omnibus:                    12617.647   Durbin-Watson:                   2.004\n",
       "Prob(Omnibus):                  0.000   Jarque-Bera (JB):        203386733.847\n",
       "Skew:                          24.720   Prob(JB):                         0.00\n",
       "Kurtosis:                     968.747   Cond. No.                         244.\n",
       "==============================================================================\n",
       "\n",
       "Notes:\n",
       "[1] Standard Errors assume that the covariance matrix of the errors is correctly specified.\n",
       "\"\"\""
      ]
     },
     "execution_count": 18,
     "metadata": {},
     "output_type": "execute_result"
    }
   ],
   "source": [
    "results.summary()"
   ]
  },
  {
   "cell_type": "markdown",
   "id": "9fda48fc-f1da-4315-a8c1-f6d1fd06b774",
   "metadata": {},
   "source": [
    "R-squared = 0.493, This is a statistical measure that represents the proportion of the variance for the dependent variable that's explained by the independent variable. Meaning that approximately 49.3% of the variability in `followers` can be explained by `following`.\n",
    "\n",
    "F-statistic = 5080, This is a measure of how significant the fit of the model is.\n",
    "\n",
    "Prob (F-statistic) = 0.00 (The associated p-value) is less than 0.05 means that the independent variable, `following`, is a statistically significant predictor of `followers`.\n",
    "\n",
    "coef for `following` = 0.8106, This is the change in the `followers` variable for a one-unit change in the `following` variable, holding all other variables constant. In this case, for each additional user that someone follows, their followers will increase by about 0.81."
   ]
  },
  {
   "cell_type": "markdown",
   "id": "54bee3e0-6870-4dbc-8d9e-4cad42024174",
   "metadata": {},
   "source": [
    "### Event Data"
   ]
  },
  {
   "cell_type": "code",
   "execution_count": 19,
   "id": "1ea7756e-19a1-4e93-b8b3-50d068c72fb3",
   "metadata": {},
   "outputs": [
    {
     "data": {
      "text/html": [
       "<div>\n",
       "<style scoped>\n",
       "    .dataframe tbody tr th:only-of-type {\n",
       "        vertical-align: middle;\n",
       "    }\n",
       "\n",
       "    .dataframe tbody tr th {\n",
       "        vertical-align: top;\n",
       "    }\n",
       "\n",
       "    .dataframe thead th {\n",
       "        text-align: right;\n",
       "    }\n",
       "</style>\n",
       "<table border=\"1\" class=\"dataframe\">\n",
       "  <thead>\n",
       "    <tr style=\"text-align: right;\">\n",
       "      <th></th>\n",
       "      <th>user_alias</th>\n",
       "      <th>event_type</th>\n",
       "      <th>created_at</th>\n",
       "    </tr>\n",
       "  </thead>\n",
       "  <tbody>\n",
       "    <tr>\n",
       "      <th>0</th>\n",
       "      <td>usr1</td>\n",
       "      <td>PushEvent</td>\n",
       "      <td>2023-10-31T17:57:39Z</td>\n",
       "    </tr>\n",
       "    <tr>\n",
       "      <th>1</th>\n",
       "      <td>usr1</td>\n",
       "      <td>CreateEvent</td>\n",
       "      <td>2023-10-30T18:13:26Z</td>\n",
       "    </tr>\n",
       "    <tr>\n",
       "      <th>2</th>\n",
       "      <td>usr1</td>\n",
       "      <td>CreateEvent</td>\n",
       "      <td>2023-10-30T17:53:32Z</td>\n",
       "    </tr>\n",
       "    <tr>\n",
       "      <th>3</th>\n",
       "      <td>usr2</td>\n",
       "      <td>CreateEvent</td>\n",
       "      <td>2024-01-08T17:29:08Z</td>\n",
       "    </tr>\n",
       "    <tr>\n",
       "      <th>4</th>\n",
       "      <td>usr2</td>\n",
       "      <td>CreateEvent</td>\n",
       "      <td>2024-01-08T17:27:38Z</td>\n",
       "    </tr>\n",
       "  </tbody>\n",
       "</table>\n",
       "</div>"
      ],
      "text/plain": [
       "  user_alias   event_type            created_at\n",
       "0       usr1    PushEvent  2023-10-31T17:57:39Z\n",
       "1       usr1  CreateEvent  2023-10-30T18:13:26Z\n",
       "2       usr1  CreateEvent  2023-10-30T17:53:32Z\n",
       "3       usr2  CreateEvent  2024-01-08T17:29:08Z\n",
       "4       usr2  CreateEvent  2024-01-08T17:27:38Z"
      ]
     },
     "execution_count": 19,
     "metadata": {},
     "output_type": "execute_result"
    }
   ],
   "source": [
    "event_data.head()"
   ]
  },
  {
   "cell_type": "markdown",
   "id": "5275b953-1b50-40d4-87c3-3fabdad7c815",
   "metadata": {},
   "source": [
    "..."
   ]
  },
  {
   "cell_type": "code",
   "execution_count": null,
   "id": "188cec7e-2775-453f-ae99-56a3439185d2",
   "metadata": {},
   "outputs": [],
   "source": []
  }
 ],
 "metadata": {
  "kernelspec": {
   "display_name": "Python 3 (ipykernel)",
   "language": "python",
   "name": "python3"
  },
  "language_info": {
   "codemirror_mode": {
    "name": "ipython",
    "version": 3
   },
   "file_extension": ".py",
   "mimetype": "text/x-python",
   "name": "python",
   "nbconvert_exporter": "python",
   "pygments_lexer": "ipython3",
   "version": "3.10.10"
  }
 },
 "nbformat": 4,
 "nbformat_minor": 5
}
