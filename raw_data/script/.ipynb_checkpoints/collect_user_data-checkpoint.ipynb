{
 "cells": [
  {
   "cell_type": "code",
   "execution_count": 1,
   "id": "d6476908-dbf9-4732-bee1-b975fcb6fd96",
   "metadata": {},
   "outputs": [],
   "source": [
    "import time\n",
    "import datetime\n",
    "import requests"
   ]
  },
  {
   "cell_type": "code",
   "execution_count": 2,
   "id": "6b5533b8-6840-4e12-b70f-003a1be8e39c",
   "metadata": {},
   "outputs": [],
   "source": [
    "session = requests.Session()\n",
    "with open (\"token.txt\", \"r\") as f:\n",
    "    x = f.readline()\n",
    "session.headers.update({\"Authorization\": \"token \"+x.strip()})"
   ]
  },
  {
   "cell_type": "code",
   "execution_count": 3,
   "id": "46e8f895-c3b6-4da0-a268-ec9e71401c01",
   "metadata": {},
   "outputs": [],
   "source": [
    "api_request_limit_per_hour = 4999\n",
    "error_url = []\n",
    "limit_check_hour = datetime.datetime.now().hour\n",
    "can_continue = True\n",
    "\n",
    "def HasItPassLimitHour(current_hour):\n",
    "    return limit_check_hour != current_hour\n",
    "\n",
    "def CheckRequestLimit():\n",
    "    global api_request_limit_per_hour\n",
    "    if api_request_limit_per_hour != 0:\n",
    "        can_continue = True\n",
    "    else:\n",
    "        current_hour = datetime.datetime.now().hour\n",
    "        if HasItPassLimitHour(current_hour) == True:\n",
    "            limit_check_hour = datetime.datetime.now().hour\n",
    "            api_request_limit_per_hour = 4999\n",
    "            can_continue = True\n",
    "        else:\n",
    "            can_continue = False\n",
    "    \n",
    "def FetchDataFromGitHubRestApi(url):\n",
    "    global api_request_limit_per_hour\n",
    "    CheckRequestLimit()\n",
    "    while can_continue == False:\n",
    "        time.sleep(60)\n",
    "        CheckRequestLimit()\n",
    "    response = session.get(url)\n",
    "    api_request_limit_per_hour -= 1\n",
    "    if response.status_code == 200:\n",
    "        fetched_data = response.json()\n",
    "        poll_interval = None\n",
    "        poll_interval = response.headers.get('X-Poll-Interval')\n",
    "        if poll_interval:\n",
    "            time.sleep(int(poll_interval))\n",
    "        return fetched_data\n",
    "    else:\n",
    "        error_url.append(url)"
   ]
  },
  {
   "cell_type": "code",
   "execution_count": 4,
   "id": "f0287e95-cb39-4dcb-8308-43b68490e595",
   "metadata": {},
   "outputs": [],
   "source": [
    "username = \"kritserv\""
   ]
  },
  {
   "cell_type": "code",
   "execution_count": 5,
   "id": "7e1fc35b-7b67-403d-86ef-a5f4a88ba87d",
   "metadata": {},
   "outputs": [
    {
     "name": "stdout",
     "output_type": "stream",
     "text": [
      "User\n"
     ]
    }
   ],
   "source": [
    "profile_url = \"https://api.github.com/users/\"+username\n",
    "profile_data = FetchDataFromGitHubRestApi(profile_url)\n",
    "if profile_data[\"type\"] == \"Organization\":\n",
    "    print(\"Organization\")\n",
    "else:\n",
    "    print(profile_data[\"type\"])"
   ]
  },
  {
   "cell_type": "code",
   "execution_count": 6,
   "id": "63af67b8-4fa4-475d-8290-08cf31af1064",
   "metadata": {},
   "outputs": [],
   "source": [
    "event_data = {}\n",
    "\n",
    "for i in [1,2,3]:\n",
    "    event_url_pagination = \"https://api.github.com/users/\"+username+\"/events?per_page=100&page=\"+str(i)\n",
    "    event_data[\"page\"+str(i)] = FetchDataFromGitHubRestApi(event_url_pagination)"
   ]
  },
  {
   "cell_type": "code",
   "execution_count": 7,
   "id": "3e2d4c39-aa4d-40d2-958d-aa2b629eed9e",
   "metadata": {},
   "outputs": [
    {
     "data": {
      "text/plain": [
       "3"
      ]
     },
     "execution_count": 7,
     "metadata": {},
     "output_type": "execute_result"
    }
   ],
   "source": [
    "len(event_data)"
   ]
  },
  {
   "cell_type": "code",
   "execution_count": 8,
   "id": "db3faf8e-7ef9-4100-bd10-db6dc3756e38",
   "metadata": {},
   "outputs": [
    {
     "data": {
      "text/plain": [
       "(100, 100, 99)"
      ]
     },
     "execution_count": 8,
     "metadata": {},
     "output_type": "execute_result"
    }
   ],
   "source": [
    "len(event_data[\"page1\"]), len(event_data[\"page2\"]), len(event_data[\"page3\"])"
   ]
  },
  {
   "cell_type": "code",
   "execution_count": 9,
   "id": "aca9176b-e34c-4550-b2d3-4c46c131f69a",
   "metadata": {},
   "outputs": [
    {
     "data": {
      "text/plain": [
       "4995"
      ]
     },
     "execution_count": 9,
     "metadata": {},
     "output_type": "execute_result"
    }
   ],
   "source": [
    "api_request_limit_per_hour"
   ]
  },
  {
   "cell_type": "code",
   "execution_count": null,
   "id": "3701c201-a6e4-42d5-89cb-e895996a9894",
   "metadata": {},
   "outputs": [],
   "source": []
  }
 ],
 "metadata": {
  "kernelspec": {
   "display_name": "Python 3 (ipykernel)",
   "language": "python",
   "name": "python3"
  },
  "language_info": {
   "codemirror_mode": {
    "name": "ipython",
    "version": 3
   },
   "file_extension": ".py",
   "mimetype": "text/x-python",
   "name": "python",
   "nbconvert_exporter": "python",
   "pygments_lexer": "ipython3",
   "version": "3.11.6"
  }
 },
 "nbformat": 4,
 "nbformat_minor": 5
}
