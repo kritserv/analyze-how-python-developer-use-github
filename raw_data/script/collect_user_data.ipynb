{
 "cells": [
  {
   "cell_type": "code",
   "execution_count": 1,
   "id": "d6476908-dbf9-4732-bee1-b975fcb6fd96",
   "metadata": {},
   "outputs": [],
   "source": [
    "import time\n",
    "import datetime\n",
    "import requests"
   ]
  },
  {
   "cell_type": "code",
   "execution_count": 2,
   "id": "6b5533b8-6840-4e12-b70f-003a1be8e39c",
   "metadata": {},
   "outputs": [],
   "source": [
    "session = requests.Session()\n",
    "with open (\"token.txt\", \"r\") as f:\n",
    "    x = f.readline()\n",
    "session.headers.update({\"Authorization\": \"token \"+x.strip()})"
   ]
  },
  {
   "cell_type": "code",
   "execution_count": 3,
   "id": "46e8f895-c3b6-4da0-a268-ec9e71401c01",
   "metadata": {},
   "outputs": [],
   "source": [
    "api_request_limit_per_hour = 4999\n",
    "error_url = []\n",
    "limit_check_hour = datetime.datetime.now().hour\n",
    "can_continue = True\n",
    "\n",
    "def HasItPassLimitHour(current_hour):\n",
    "    return limit_check_hour != current_hour\n",
    "\n",
    "def CheckRequestLimit():\n",
    "    global api_request_limit_per_hour\n",
    "    if api_request_limit_per_hour != 0:\n",
    "        can_continue = True\n",
    "    else:\n",
    "        current_hour = datetime.datetime.now().hour\n",
    "        if HasItPassLimitHour(current_hour) == True:\n",
    "            limit_check_hour = datetime.datetime.now().hour\n",
    "            api_request_limit_per_hour = 4999\n",
    "            can_continue = True\n",
    "        else:\n",
    "            can_continue = False\n",
    "    \n",
    "def FetchDataFromGitHubRestApi(url):\n",
    "    global api_request_limit_per_hour\n",
    "    CheckRequestLimit()\n",
    "    while can_continue == False:\n",
    "        time.sleep(60)\n",
    "        CheckRequestLimit()\n",
    "    response = session.get(url)\n",
    "    api_request_limit_per_hour -= 1\n",
    "    if response.status_code == 200:\n",
    "        fetched_data = response.json()\n",
    "        poll_interval = None\n",
    "        poll_interval = response.headers.get('X-Poll-Interval')\n",
    "        if poll_interval:\n",
    "            time.sleep(int(poll_interval))\n",
    "        return fetched_data\n",
    "    else:\n",
    "        error_url.append(url)\n",
    "\n",
    "def Select(field, fetched_data):\n",
    "    # Select Field From Fetched Data\n",
    "    if field:\n",
    "        if type(field) == str:\n",
    "            try:\n",
    "                output = str(fetched_data[field])\n",
    "            except:\n",
    "                output = fetched_data[field]\n",
    "        else:\n",
    "            output = str(fetched_data[field])\n",
    "        output = output.replace(\"'\",'').replace(\", \",'/').replace('[','').replace(']','')\n",
    "        if output == \" \" or output == \"\":\n",
    "            output = \"None\"\n",
    "    else:\n",
    "        output = \"None\"\n",
    "    return output"
   ]
  },
  {
   "cell_type": "code",
   "execution_count": 5,
   "id": "f0287e95-cb39-4dcb-8308-43b68490e595",
   "metadata": {},
   "outputs": [],
   "source": [
    "username = \"kritserv\""
   ]
  },
  {
   "cell_type": "code",
   "execution_count": 6,
   "id": "7e1fc35b-7b67-403d-86ef-a5f4a88ba87d",
   "metadata": {},
   "outputs": [],
   "source": [
    "profile_url = \"https://api.github.com/users/\"+username\n",
    "profile_data = FetchDataFromGitHubRestApi(profile_url)"
   ]
  },
  {
   "cell_type": "code",
   "execution_count": 7,
   "id": "63af67b8-4fa4-475d-8290-08cf31af1064",
   "metadata": {},
   "outputs": [],
   "source": [
    "event_data = {}\n",
    "\n",
    "for i in (1,2,3):\n",
    "    event_url_pagination = \"https://api.github.com/users/\"+username+\"/events?per_page=100&page=\"+str(i)\n",
    "    event_data[\"page\"+str(i)] = FetchDataFromGitHubRestApi(event_url_pagination)"
   ]
  },
  {
   "cell_type": "code",
   "execution_count": 8,
   "id": "9f1c9b62-1eeb-4fcb-9272-fc1db1ed531f",
   "metadata": {},
   "outputs": [],
   "source": [
    "all_event_data = []\n",
    "for page in event_data:\n",
    "    for event in event_data[page]:\n",
    "        all_event_data.append((Select('type', event), Select('created_at', event)))"
   ]
  },
  {
   "cell_type": "code",
   "execution_count": 9,
   "id": "3e2d4c39-aa4d-40d2-958d-aa2b629eed9e",
   "metadata": {},
   "outputs": [
    {
     "data": {
      "text/plain": [
       "299"
      ]
     },
     "execution_count": 9,
     "metadata": {},
     "output_type": "execute_result"
    }
   ],
   "source": [
    "len(all_event_data)"
   ]
  },
  {
   "cell_type": "code",
   "execution_count": 10,
   "id": "db3faf8e-7ef9-4100-bd10-db6dc3756e38",
   "metadata": {},
   "outputs": [
    {
     "data": {
      "text/plain": [
       "(100, 100, 99)"
      ]
     },
     "execution_count": 10,
     "metadata": {},
     "output_type": "execute_result"
    }
   ],
   "source": [
    "len(event_data[\"page1\"]), len(event_data[\"page2\"]), len(event_data[\"page3\"])"
   ]
  },
  {
   "cell_type": "code",
   "execution_count": 11,
   "id": "eb82a9c4-4811-4665-b475-7c91e5c8b2f7",
   "metadata": {},
   "outputs": [
    {
     "name": "stdout",
     "output_type": "stream",
     "text": [
      "('PushEvent', '2024-01-11T09:32:07Z')\n",
      "('PushEvent', '2024-01-11T09:27:29Z')\n",
      "('PushEvent', '2024-01-10T12:03:32Z')\n",
      "('PushEvent', '2024-01-10T11:46:46Z')\n",
      "('PushEvent', '2024-01-10T10:46:18Z')\n",
      "('PushEvent', '2024-01-10T10:43:03Z')\n",
      "('PushEvent', '2024-01-10T10:40:22Z')\n",
      "('PushEvent', '2024-01-09T10:23:54Z')\n",
      "('PushEvent', '2024-01-08T13:14:14Z')\n",
      "('PushEvent', '2024-01-08T10:17:47Z')\n"
     ]
    }
   ],
   "source": [
    "for i in range(10):\n",
    "    print(all_event_data[i])"
   ]
  },
  {
   "cell_type": "code",
   "execution_count": 12,
   "id": "aca9176b-e34c-4550-b2d3-4c46c131f69a",
   "metadata": {},
   "outputs": [
    {
     "data": {
      "text/plain": [
       "4995"
      ]
     },
     "execution_count": 12,
     "metadata": {},
     "output_type": "execute_result"
    }
   ],
   "source": [
    "api_request_limit_per_hour"
   ]
  },
  {
   "cell_type": "code",
   "execution_count": 13,
   "id": "2211e11d-0d68-4561-86e3-0cf646bb7845",
   "metadata": {},
   "outputs": [],
   "source": [
    "starred_data = FetchDataFromGitHubRestApi(\"https://api.github.com/users/\"+username+\"/starred?per_page=100&sort=updated\")"
   ]
  },
  {
   "cell_type": "code",
   "execution_count": 14,
   "id": "f2e55089-ec83-4af6-94bd-aa69ef4ecfe8",
   "metadata": {},
   "outputs": [
    {
     "data": {
      "text/plain": [
       "36"
      ]
     },
     "execution_count": 14,
     "metadata": {},
     "output_type": "execute_result"
    }
   ],
   "source": [
    "len(starred_data)"
   ]
  },
  {
   "cell_type": "code",
   "execution_count": 15,
   "id": "fe97d0e0-9efc-44c6-8719-37addfe1b88f",
   "metadata": {},
   "outputs": [
    {
     "name": "stdout",
     "output_type": "stream",
     "text": [
      "full name: postgres/postgres\n",
      "html_url: https://github.com/postgres/postgres\n",
      "description: Mirror of the official PostgreSQL GIT repository. Note that this is just a *mirror* - we dont work with pull requests on github. To contribute/please see https://wiki.postgresql.org/wiki/Submitting_a_Patch\n",
      "language: C\n",
      "topics: None\n",
      "stargazers_count: 13873\n",
      "\n",
      "full name: mongodb/mongo\n",
      "html_url: https://github.com/mongodb/mongo\n",
      "description: The MongoDB Database\n",
      "language: C++\n",
      "topics: c-plus-plus/database/mongodb/nosql\n",
      "stargazers_count: 24921\n",
      "\n",
      "full name: 4ian/GDevelop\n",
      "html_url: https://github.com/4ian/GDevelop\n",
      "description: :video_game: Open-source/cross-platform game engine designed to be used by everyone.\n",
      "language: JavaScript\n",
      "topics: 2d-game/2d-game-engine/3d/3d-game/3d-game-engine/c-plus-plus/game/game-2d/game-3d/game-development/game-engine/gamedev/gamemaker/gdevelop/hacktoberfest/html5/html5-game-engine/javascript/open-source/web-app\n",
      "stargazers_count: 5536\n",
      "\n",
      "full name: django/django\n",
      "html_url: https://github.com/django/django\n",
      "description: The Web framework for perfectionists with deadlines.\n",
      "language: Python\n",
      "topics: apps/django/framework/models/orm/python/templates/views/web\n",
      "stargazers_count: 74995\n",
      "\n",
      "full name: gohugoio/hugo\n",
      "html_url: https://github.com/gohugoio/hugo\n",
      "description: The world’s fastest framework for building websites.\n",
      "language: Go\n",
      "topics: blog-engine/cms/content-management-system/documentation-tool/go/hugo/static-site-generator\n",
      "stargazers_count: 70788\n",
      "\n",
      "full name: renpy/renpy\n",
      "html_url: https://github.com/renpy/renpy\n",
      "description: The RenPy Visual Novel Engine\n",
      "language: RenPy\n",
      "topics: engine/game/novel/python/renpy/visual/visual-novel\n",
      "stargazers_count: 4307\n",
      "\n",
      "full name: bigskysoftware/htmx\n",
      "html_url: https://github.com/bigskysoftware/htmx\n",
      "description: </> htmx - high power tools for HTML\n",
      "language: JavaScript\n",
      "topics: hateoas/html/htmx/hyperscript/javascript/rest\n",
      "stargazers_count: 26717\n",
      "\n",
      "full name: qtile/qtile\n",
      "html_url: https://github.com/qtile/qtile\n",
      "description: :cookie: A full-featured/hackable tiling window manager written and configured in Python (X11 + Wayland)\n",
      "language: Python\n",
      "topics: python/qtile/wayland-compositor/window-manager/wlroots/x11-wm\n",
      "stargazers_count: 4419\n",
      "\n",
      "full name: Diptenusarkar/Website-Template\n",
      "html_url: https://github.com/Diptenusarkar/Website-Template\n",
      "description: Website Template this repository is free for all. You can use this code for both personal & commercial use.\n",
      "language: CSS\n",
      "topics: css/hacktoberfest/hacktoberfest-accepted/hacktoberfest-starter/hacktoberfest2021/hacktoberfest2022/hacktoberfest2023/html/html-css-javascript/html-template/javascript/template\n",
      "stargazers_count: 84\n",
      "\n",
      "full name: psf/black\n",
      "html_url: https://github.com/psf/black\n",
      "description: The uncompromising Python code formatter\n",
      "language: Python\n",
      "topics: autopep8/code/codeformatter/formatter/gofmt/hacktoberfest/pre-commit-hook/python/yapf\n",
      "stargazers_count: 35812\n",
      "\n",
      "full name: kivy/kivy\n",
      "html_url: https://github.com/kivy/kivy\n",
      "description: Open source UI framework written in Python/running on Windows/Linux/macOS/Android and iOS\n",
      "language: Python\n",
      "topics: android/app/ios/kivy/linux/macos/python/ui/windows\n",
      "stargazers_count: 16607\n",
      "\n",
      "full name: github/opensource.guide\n",
      "html_url: https://github.com/github/opensource.guide\n",
      "description: 📚 Community guides for open source creators\n",
      "language: HTML\n",
      "topics: best-practices/documentation/hacktoberfest/open-source/oss/tutorial\n",
      "stargazers_count: 13331\n",
      "\n",
      "full name: pennersr/django-allauth\n",
      "html_url: https://github.com/pennersr/django-allauth\n",
      "description: Integrated set of Django applications addressing authentication/registration/account management as well as 3rd party (social) account authentication.\n",
      "language: Python\n",
      "topics: accounts/authentication/django/login/oauth2/openid-connect/python/registration/saml/signup/social-login/two-factor-authentication\n",
      "stargazers_count: 8583\n",
      "\n",
      "full name: docker/awesome-compose\n",
      "html_url: https://github.com/docker/awesome-compose\n",
      "description: Awesome Docker Compose samples\n",
      "language: HTML\n",
      "topics: awesome/awesome-list/docker-compose\n",
      "stargazers_count: 28032\n",
      "\n",
      "full name: r0x0r/pywebview\n",
      "html_url: https://github.com/r0x0r/pywebview\n",
      "description: Build GUI for your Python program with JavaScript/HTML/and CSS\n",
      "language: Python\n",
      "topics: cef/cocoa/gtk/gui/html/javascript/linux/osx/python/qt/webkit/windows\n",
      "stargazers_count: 3982\n",
      "\n",
      "full name: Ebazhanov/linkedin-skill-assessments-quizzes\n",
      "html_url: https://github.com/Ebazhanov/linkedin-skill-assessments-quizzes\n",
      "description: Full reference of LinkedIn answers 2023 for skill assessments (aws-lambda/rest-api/javascript/react/git/html/jquery/mongodb/java/Go/python/machine-learning/power-point) linkedin excel test lösungen/linkedin machine learning test LinkedIn test questions and answers \n",
      "language: None\n",
      "topics: answers/assessment/english/exam/france/german/golang/hacktoberfest/hacktoberfest2020/hacktoberfest2021/hacktoberfest2022/hacktoberfest2023/linkedin/linkedin-questions/quiz/quiz-questions/skills\n",
      "stargazers_count: 27765\n",
      "\n",
      "full name: developer-portal/content\n",
      "html_url: https://github.com/developer-portal/content\n",
      "description: Content for the Fedora Developer Portal\n",
      "language: None\n",
      "topics: None\n",
      "stargazers_count: 102\n",
      "\n",
      "full name: zyedidia/micro\n",
      "html_url: https://github.com/zyedidia/micro\n",
      "description: A modern and intuitive terminal-based text editor\n",
      "language: Go\n",
      "topics: command-line/cross-platform/editor/go/golang/micro/terminal/text-editor\n",
      "stargazers_count: 23321\n",
      "\n",
      "full name: mgunyho/tere\n",
      "html_url: https://github.com/mgunyho/tere\n",
      "description: Terminal file explorer\n",
      "language: Rust\n",
      "topics: file-explorer/rust/terminal/tui\n",
      "stargazers_count: 1586\n",
      "\n",
      "full name: Dun-sin/Code-Magic\n",
      "html_url: https://github.com/Dun-sin/Code-Magic\n",
      "description: Code Generator - Easily Generate CSS and Tailwind code based on your choice and input\n",
      "language: TypeScript\n",
      "topics: css/developer-tools/generator/hacktoberfest/hacktoberfest2023/html/open-source/styling-css/tools/typescript\n",
      "stargazers_count: 372\n",
      "\n",
      "full name: mysqljs/mysql\n",
      "html_url: https://github.com/mysqljs/mysql\n",
      "description: A pure node.js JavaScript Client implementing the MySQL protocol.\n",
      "language: JavaScript\n",
      "topics: javascript/mysql/nodejs\n",
      "stargazers_count: 18067\n",
      "\n",
      "full name: GDevelopApp/GDevelop-tutorials\n",
      "html_url: https://github.com/GDevelopApp/GDevelop-tutorials\n",
      "description: Tutorials that can be followed in GDevelop - the open-source/no-code game engine\n",
      "language: JavaScript\n",
      "topics: None\n",
      "stargazers_count: 8\n",
      "\n",
      "full name: pydanny/dj-notebook\n",
      "html_url: https://github.com/pydanny/dj-notebook\n",
      "description: Django + shell_plus + Jupyter notebooks made easy.\n",
      "language: Jupyter Notebook\n",
      "topics: django/django-extensions/jupyter-notebook/notebook\n",
      "stargazers_count: 78\n",
      "\n",
      "full name: tartley/colorama\n",
      "html_url: https://github.com/tartley/colorama\n",
      "description: Simple cross-platform colored terminal text in Python\n",
      "language: Python\n",
      "topics: None\n",
      "stargazers_count: 3329\n",
      "\n",
      "full name: piskelapp/piskel\n",
      "html_url: https://github.com/piskelapp/piskel\n",
      "description: A simple web-based tool for Spriting and Pixel art.\n",
      "language: JavaScript\n",
      "topics: canvas/gif/javascript/pixel-art/spritesheet\n",
      "stargazers_count: 10492\n",
      "\n",
      "full name: dev-shetty/CSS-Is-Fun\n",
      "html_url: https://github.com/dev-shetty/CSS-Is-Fun\n",
      "description: CSS-Is-Fun is a collection of creative and fun CSS animations and effects to enhance your web projects.\n",
      "language: HTML\n",
      "topics: beginner-friendly/css/for-beginners/hacktoberfest/html/javascript/projects-list/ui/ui-snippets\n",
      "stargazers_count: 14\n",
      "\n",
      "full name: bobbyiliev/101-linux-commands-ebook\n",
      "html_url: https://github.com/bobbyiliev/101-linux-commands-ebook\n",
      "description: 101 Linux commands Open-source eBook\n",
      "language: Python\n",
      "topics: devops/ebook/hacktoberfest/hacktoberfest2021/linux/shell\n",
      "stargazers_count: 370\n",
      "\n",
      "full name: ankit0313/HTML\n",
      "html_url: https://github.com/ankit0313/HTML\n",
      "description: All Important HTML Tags are covered in this repository\n",
      "language: HTML\n",
      "topics: frontend/hacktoberfest/hacktoberfest-2022/hacktoberfest-accepted/hacktoberfest2022/hacktoberfest2023/html\n",
      "stargazers_count: 8\n",
      "\n",
      "full name: alda-lang/alda\n",
      "html_url: https://github.com/alda-lang/alda\n",
      "description: A music programming language for musicians. :notes:\n",
      "language: Go\n",
      "topics: alda/hacktoberfest/music/music-composition/music-programming/music-programming-language/programming-language\n",
      "stargazers_count: 5481\n",
      "\n",
      "full name: huxingyi/dust3d\n",
      "html_url: https://github.com/huxingyi/dust3d\n",
      "description: Dust3D is a cross-platform 3D modeling software that makes it easy to create low poly 3D models for video games/3D printing/and more.\n",
      "language: C++\n",
      "topics: 3d/3d-modelling/3d-printing/dust3d/game-development/low-poly\n",
      "stargazers_count: 2811\n",
      "\n",
      "full name: patx/pickledb\n",
      "html_url: https://github.com/patx/pickledb\n",
      "description: pickleDB is an open source key-value store using Pythons json module.\n",
      "language: Python\n",
      "topics: bsd-3-clause/database/datastore/json/key-value/pickledb/python/python3\n",
      "stargazers_count: 842\n",
      "\n",
      "full name: donnemartin/gitsome\n",
      "html_url: https://github.com/donnemartin/gitsome\n",
      "description: A supercharged Git/GitHub command line interface (CLI).  An official integration for GitHub and GitHub Enterprise: https://github.com/works-with/category/desktop-tools\n",
      "language: Python\n",
      "topics: cli/cli-app/client/command-line/developer-tools/development/git/github/github-api/github-client/github-enterprise/linux/macos/programming/python/shell/terminal/utilities/utility/windows\n",
      "stargazers_count: 7488\n",
      "\n",
      "full name: michalsnik/aos\n",
      "html_url: https://github.com/michalsnik/aos\n",
      "description: Animate on scroll library\n",
      "language: JavaScript\n",
      "topics: None\n",
      "stargazers_count: 25088\n",
      "\n",
      "full name: jundongl/scikit-feature\n",
      "html_url: https://github.com/jundongl/scikit-feature\n",
      "description: open-source feature selection repository in python\n",
      "language: Python\n",
      "topics: None\n",
      "stargazers_count: 1433\n",
      "\n",
      "full name: ibuetler/alpine-linux-setup\n",
      "html_url: https://github.com/ibuetler/alpine-linux-setup\n",
      "description: Alpine Linux Setup\n",
      "language: Shell\n",
      "topics: None\n",
      "stargazers_count: 14\n",
      "\n",
      "full name: OsciiArt/DeepAA\n",
      "html_url: https://github.com/OsciiArt/DeepAA\n",
      "description: make ASCII Art by Deep Learning\n",
      "language: Python\n",
      "topics: ascii-art/deep-learning/keras/python/tensorflow\n",
      "stargazers_count: 1491\n",
      "\n"
     ]
    }
   ],
   "source": [
    "for star_repo in starred_data:\n",
    "    print(\"full name: \"+Select(\"full_name\", star_repo), \n",
    "          \"html_url: \"+Select(\"html_url\", star_repo), \n",
    "          \"description: \"+Select(\"description\", star_repo), \n",
    "          \"language: \"+Select(\"language\", star_repo), \n",
    "          \"topics: \"+Select(\"topics\", star_repo), \n",
    "          \"stargazers_count: \"+Select(\"stargazers_count\", star_repo), sep='\\n', end='\\n\\n')"
   ]
  },
  {
   "cell_type": "code",
   "execution_count": 16,
   "id": "09916a8d-10ca-463f-9ca6-7623870a4ed3",
   "metadata": {},
   "outputs": [
    {
     "name": "stdout",
     "output_type": "stream",
     "text": [
      "login: kritserv\n",
      "type: User\n",
      "location: Bangkok/Thailand\n",
      "hireable: True\n",
      "public_repos: 14\n",
      "public_gists: 1\n",
      "followers: 3\n",
      "following: 5\n",
      "created_at: 2023-01-10T12:07:55Z\n",
      "updated_at: 2024-01-06T14:57:09Z\n"
     ]
    }
   ],
   "source": [
    "print('login: '+Select(\"login\", profile_data), \n",
    "      'type: '+Select(\"type\", profile_data), \n",
    "      'location: '+Select(\"location\", profile_data), \n",
    "      'hireable: '+Select(\"hireable\", profile_data), \n",
    "      'public_repos: '+Select(\"public_repos\", profile_data), \n",
    "      'public_gists: '+Select(\"public_gists\", profile_data), \n",
    "      'followers: '+Select(\"followers\", profile_data), \n",
    "      'following: '+Select(\"following\", profile_data), \n",
    "      'created_at: '+Select(\"created_at\", profile_data), \n",
    "      'updated_at: '+Select(\"updated_at\", profile_data), sep='\\n')"
   ]
  },
  {
   "cell_type": "code",
   "execution_count": 17,
   "id": "96bf9e93-fb8d-41b5-805f-049abfe36e8d",
   "metadata": {},
   "outputs": [],
   "source": [
    "repo_data = FetchDataFromGitHubRestApi(\"https://api.github.com/users/\"+username+\"/repos?per_page=100&sort=updated\")"
   ]
  },
  {
   "cell_type": "code",
   "execution_count": 18,
   "id": "c73301d6-3a61-44f9-9aee-bf5949b19a66",
   "metadata": {},
   "outputs": [
    {
     "name": "stdout",
     "output_type": "stream",
     "text": [
      "description: API for the tarot cards of the Rider-Waite-Smith deck using go\n",
      "fork: True\n",
      "stargazers_count: 0\n",
      "language: Go\n",
      "topics: api/go/golang/tarot-cards\n",
      "forks: 0\n",
      "\n",
      "description: A python code that prints the result of a neural network trying to solve Pythagoras’ theorem in real-time in your terminal.\n",
      "fork: False\n",
      "stargazers_count: 0\n",
      "language: Python\n",
      "topics: neural-network/pythagoras/python\n",
      "forks: 0\n",
      "\n",
      "description: None\n",
      "fork: False\n",
      "stargazers_count: 0\n",
      "language: HTML\n",
      "topics: None\n",
      "forks: 0\n",
      "\n",
      "description: None\n",
      "fork: False\n",
      "stargazers_count: 0\n",
      "language: HTML\n",
      "topics: None\n",
      "forks: 0\n",
      "\n",
      "description: None\n",
      "fork: False\n",
      "stargazers_count: 0\n",
      "language: HTML\n",
      "topics: None\n",
      "forks: 0\n",
      "\n",
      "description: Ecommerce website build with Django/Docker/SQLite.\n",
      "fork: False\n",
      "stargazers_count: 0\n",
      "language: Python\n",
      "topics: django/django-project/docker/ecommerce-website/python\n",
      "forks: 0\n",
      "\n",
      "description: None\n",
      "fork: False\n",
      "stargazers_count: 0\n",
      "language: Python\n",
      "topics: None\n",
      "forks: 0\n",
      "\n",
      "description: A python notebook for fake and real voice (from FOR Dataset) classification using machine learning technique\n",
      "fork: False\n",
      "stargazers_count: 0\n",
      "language: Jupyter Notebook\n",
      "topics: classification/jupyter-notebook/mfcc-features/python/voice\n",
      "forks: 0\n",
      "\n",
      "description: Linux ubuntu setup\n",
      "fork: False\n",
      "stargazers_count: 0\n",
      "language: Shell\n",
      "topics: None\n",
      "forks: 0\n",
      "\n",
      "description: Bash script linux open-source file explorer in terminal for terminal text editor (works well with gnome-terminal and micro/nano)\n",
      "fork: False\n",
      "stargazers_count: 0\n",
      "language: Shell\n",
      "topics: bash-script/emoji/file-explorer/gnome-terminal/linux/micro/nano/open-source/terminal\n",
      "forks: 0\n",
      "\n",
      "description: GitHubStat Display Card is an open-source python project for displaying GitHub stat card inspired by neofetch and built with svgwrite.\n",
      "fork: False\n",
      "stargazers_count: 0\n",
      "language: Jupyter Notebook\n",
      "topics: githubstats/open-source/python/scraping-python/svg/svgwrite\n",
      "forks: 0\n",
      "\n",
      "description: A python code for scraping title author text rating genre from top 36 rated games on itch.io\n",
      "fork: False\n",
      "stargazers_count: 2\n",
      "language: Python\n",
      "topics: beautifulsoup4/itchio/python/webscraping\n",
      "forks: 0\n",
      "\n",
      "description: None\n",
      "fork: False\n",
      "stargazers_count: 0\n",
      "language: Shell\n",
      "topics: None\n",
      "forks: 0\n",
      "\n",
      "description: None\n",
      "fork: False\n",
      "stargazers_count: 0\n",
      "language: None\n",
      "topics: None\n",
      "forks: 0\n",
      "\n"
     ]
    }
   ],
   "source": [
    "for repo in repo_data:\n",
    "    print(\"description: \"+Select(\"description\", repo), \n",
    "          \"fork: \"+Select(\"fork\", repo), \n",
    "          \"stargazers_count: \"+Select(\"stargazers_count\", repo), \n",
    "          \"language: \"+Select(\"language\", repo), \n",
    "          \"topics: \"+Select(\"topics\", repo), \n",
    "          \"forks: \"+Select(\"forks\", repo), sep='\\n', end='\\n\\n')"
   ]
  },
  {
   "cell_type": "code",
   "execution_count": 19,
   "id": "19f689db-d046-4421-a9e6-bb556981ae92",
   "metadata": {},
   "outputs": [
    {
     "data": {
      "text/plain": [
       "4993"
      ]
     },
     "execution_count": 19,
     "metadata": {},
     "output_type": "execute_result"
    }
   ],
   "source": [
    "api_request_limit_per_hour"
   ]
  },
  {
   "cell_type": "code",
   "execution_count": null,
   "id": "31b17a5b-fcfd-47b3-b3e9-24476d1dd2f6",
   "metadata": {},
   "outputs": [],
   "source": []
  }
 ],
 "metadata": {
  "kernelspec": {
   "display_name": "Python 3 (ipykernel)",
   "language": "python",
   "name": "python3"
  },
  "language_info": {
   "codemirror_mode": {
    "name": "ipython",
    "version": 3
   },
   "file_extension": ".py",
   "mimetype": "text/x-python",
   "name": "python",
   "nbconvert_exporter": "python",
   "pygments_lexer": "ipython3",
   "version": "3.11.7"
  }
 },
 "nbformat": 4,
 "nbformat_minor": 5
}
