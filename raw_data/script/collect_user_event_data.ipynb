{
 "cells": [
  {
   "cell_type": "code",
   "execution_count": 1,
   "id": "f2244173-d8b9-4afa-b06c-954ab4a8f67c",
   "metadata": {},
   "outputs": [],
   "source": [
    "import time\n",
    "import datetime\n",
    "import requests\n",
    "import csv"
   ]
  },
  {
   "cell_type": "code",
   "execution_count": 2,
   "id": "44e17997-f301-46ad-8779-be88feeba748",
   "metadata": {},
   "outputs": [],
   "source": [
    "#!pip install tqdm\n",
    "from tqdm import notebook"
   ]
  },
  {
   "cell_type": "code",
   "execution_count": 3,
   "id": "524d77bc-6571-4efc-8510-ee06ec3ccc2e",
   "metadata": {},
   "outputs": [],
   "source": [
    "session = requests.Session()\n",
    "with open (\"token.txt\", \"r\") as f:\n",
    "    x = f.readline()\n",
    "session.headers.update({\"Authorization\": \"token \"+x.strip()})"
   ]
  },
  {
   "cell_type": "code",
   "execution_count": 4,
   "id": "6e5ef9b6-d320-43b5-96cc-4553853f365d",
   "metadata": {},
   "outputs": [],
   "source": [
    "error_url = []\n",
    "\n",
    "def FetchDataFromGitHubRestApi(url):\n",
    "    response = session.get(url)\n",
    "    if response.status_code == 200:\n",
    "        fetched_data = response.json()\n",
    "        poll_interval = None\n",
    "        poll_interval = response.headers.get('X-Poll-Interval')\n",
    "        if poll_interval:\n",
    "            time.sleep(int(poll_interval))\n",
    "        return fetched_data\n",
    "    else:\n",
    "        error_url.append(url)\n",
    "\n",
    "def Select(field, fetched_data):\n",
    "    # Select Field From Fetched Data\n",
    "    if fetched_data[field]:\n",
    "        if type(fetched_data[field]) == str:\n",
    "            try:\n",
    "                output = str(fetched_data[field])\n",
    "            except:\n",
    "                output = fetched_data[field]\n",
    "        else:\n",
    "            output = str(fetched_data[field])\n",
    "        output = output.replace(\"'\",'').replace(\", \",'/').replace(\",\",'/').replace('[','').replace(']','')\n",
    "        if output == \" \" or output == \"\":\n",
    "            output = \"None\"\n",
    "    else:\n",
    "        output = \"None\"\n",
    "    return output"
   ]
  },
  {
   "cell_type": "code",
   "execution_count": 5,
   "id": "fc5c0a39-0a9f-494d-bd37-b4e3762b87a5",
   "metadata": {},
   "outputs": [],
   "source": [
    "with open (\"8K_github_username.txt\", \"r\", encoding=\"utf8\") as f:\n",
    "    all_username = f.readlines()"
   ]
  },
  {
   "cell_type": "code",
   "execution_count": 6,
   "id": "2140271e-f160-4d04-aec5-f4ad795d76b4",
   "metadata": {},
   "outputs": [],
   "source": [
    "with open (\"not_a_user_or_no_data.txt\", \"r\", encoding=\"utf8\") as f:\n",
    "    not_a_user_or_no_data = f.readlines()"
   ]
  },
  {
   "cell_type": "code",
   "execution_count": 7,
   "id": "942ee78d-6db2-4109-92ce-ce32b75fd793",
   "metadata": {},
   "outputs": [
    {
     "name": "stdout",
     "output_type": "stream",
     "text": [
      "8932 349\n"
     ]
    }
   ],
   "source": [
    "print(len(all_username), len(not_a_user_or_no_data))"
   ]
  },
  {
   "cell_type": "code",
   "execution_count": 8,
   "id": "712dff6e-b90c-4ec1-9eef-af636e060d5f",
   "metadata": {},
   "outputs": [
    {
     "name": "stdout",
     "output_type": "stream",
     "text": [
      "8583\n"
     ]
    }
   ],
   "source": [
    "for user in not_a_user_or_no_data:\n",
    "    all_username.remove(user)\n",
    "print(len(all_username))"
   ]
  },
  {
   "cell_type": "code",
   "execution_count": 9,
   "id": "c96c7aea-947c-4e54-840e-8403bc61d595",
   "metadata": {},
   "outputs": [],
   "source": [
    "all_username = [x.strip() for x in all_username]"
   ]
  },
  {
   "cell_type": "code",
   "execution_count": 10,
   "id": "26fc84e7-320e-41df-a2a6-89dee754f012",
   "metadata": {},
   "outputs": [],
   "source": [
    "user_alias = [\"usr\"+str(c) for c in range(len(all_username))]"
   ]
  },
  {
   "cell_type": "code",
   "execution_count": 11,
   "id": "ce893c98-d83a-42e3-bcdf-37b930c77693",
   "metadata": {},
   "outputs": [],
   "source": [
    "def CollectUserEventData(event_url):\n",
    "\n",
    "    all_event_data = []\n",
    "    fetched_event_data = FetchDataFromGitHubRestApi(event_url)\n",
    "\n",
    "    for event in fetched_event_data:\n",
    "        try:\n",
    "            type_ = Select(\"type\", event)\n",
    "            created_at = Select(\"created_at\", event)\n",
    "            all_event_data.append([type_, created_at])\n",
    "        except:\n",
    "            pass\n",
    "\n",
    "    return all_event_data"
   ]
  },
  {
   "cell_type": "code",
   "execution_count": 12,
   "id": "41b1500a-85c7-4d9c-a91e-63deb91f34b3",
   "metadata": {},
   "outputs": [
    {
     "name": "stdout",
     "output_type": "stream",
     "text": [
      "now  17 : 29\n"
     ]
    }
   ],
   "source": [
    "print(\"now \",datetime.datetime.now().hour,\":\", datetime.datetime.now().minute)"
   ]
  },
  {
   "cell_type": "code",
   "execution_count": 13,
   "id": "4f9390f4-7e99-4226-9438-b87032c52cac",
   "metadata": {},
   "outputs": [
    {
     "data": {
      "application/vnd.jupyter.widget-view+json": {
       "model_id": "d0e7422bb146425cbb2e3fa3de257bef",
       "version_major": 2,
       "version_minor": 0
      },
      "text/plain": [
       "  0%|          | 0/8583 [00:00<?, ?it/s]"
      ]
     },
     "metadata": {},
     "output_type": "display_data"
    },
    {
     "name": "stdout",
     "output_type": "stream",
     "text": [
      "done!\n"
     ]
    }
   ],
   "source": [
    "with open('all_user_event_data.csv', 'w', newline='', encoding='utf8') as f:\n",
    "    \n",
    "    writer = csv.writer(f)\n",
    "    \n",
    "    writer.writerow([\"user_alias\", \"event_type\", \"created_at\"])\n",
    "    \n",
    "    i = 0\n",
    "    for username in notebook.tqdm(all_username):\n",
    "        event_url = \"https://api.github.com/users/\"+username+\"/events?per_page=100\"\n",
    "        page1 = []\n",
    "        page2 = []\n",
    "        page3 = []\n",
    "        page1 = CollectUserEventData(event_url+\"&page=1\")\n",
    "        if len(page1) == 100:\n",
    "            page2 = CollectUserEventData(event_url+\"&page=2\")\n",
    "            for event in page2:\n",
    "                page1.append(event)\n",
    "            if len(page2) == 100:\n",
    "                page3 = CollectUserEventData(event_url+\"&page=3\")\n",
    "                for event in page3:\n",
    "                    page1.append(event)\n",
    "        if page1:\n",
    "            for event in page1:\n",
    "                writer.writerow([user_alias[i], event[0], event[1]])\n",
    "        else:\n",
    "            writer.writerow([user_alias[i], \"None\", \"None\"])\n",
    "        i += 1\n",
    "\n",
    "        # test\n",
    "        if i==6:\n",
    "            break\n",
    "\n",
    "print(\"done!\")"
   ]
  },
  {
   "cell_type": "code",
   "execution_count": 14,
   "id": "e558e19f-555f-43ba-b369-580ed57f0cea",
   "metadata": {},
   "outputs": [
    {
     "name": "stdout",
     "output_type": "stream",
     "text": [
      "now  17 : 35\n"
     ]
    }
   ],
   "source": [
    "print(\"now \",datetime.datetime.now().hour,\":\", datetime.datetime.now().minute)"
   ]
  },
  {
   "cell_type": "code",
   "execution_count": null,
   "id": "84e19dde-a057-4f19-8d82-f5eca5708499",
   "metadata": {},
   "outputs": [],
   "source": []
  }
 ],
 "metadata": {
  "kernelspec": {
   "display_name": "Python 3 (ipykernel)",
   "language": "python",
   "name": "python3"
  },
  "language_info": {
   "codemirror_mode": {
    "name": "ipython",
    "version": 3
   },
   "file_extension": ".py",
   "mimetype": "text/x-python",
   "name": "python",
   "nbconvert_exporter": "python",
   "pygments_lexer": "ipython3",
   "version": "3.10.10"
  }
 },
 "nbformat": 4,
 "nbformat_minor": 5
}
