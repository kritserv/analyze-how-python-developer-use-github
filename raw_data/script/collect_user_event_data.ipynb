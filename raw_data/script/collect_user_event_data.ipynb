{
 "cells": [
  {
   "cell_type": "code",
   "execution_count": 1,
   "id": "f2244173-d8b9-4afa-b06c-954ab4a8f67c",
   "metadata": {},
   "outputs": [],
   "source": [
    "import time\n",
    "import datetime\n",
    "import requests\n",
    "import csv"
   ]
  },
  {
   "cell_type": "code",
   "execution_count": 2,
   "id": "44e17997-f301-46ad-8779-be88feeba748",
   "metadata": {},
   "outputs": [],
   "source": [
    "#!pip install tqdm\n",
    "from tqdm import notebook"
   ]
  },
  {
   "cell_type": "code",
   "execution_count": 3,
   "id": "524d77bc-6571-4efc-8510-ee06ec3ccc2e",
   "metadata": {},
   "outputs": [],
   "source": [
    "session = requests.Session()\n",
    "with open (\"token.txt\", \"r\") as f:\n",
    "    x = f.readline()\n",
    "session.headers.update({\"Authorization\": \"token \"+x.strip()})"
   ]
  },
  {
   "cell_type": "code",
   "execution_count": 4,
   "id": "6e5ef9b6-d320-43b5-96cc-4553853f365d",
   "metadata": {},
   "outputs": [],
   "source": [
    "error_url = []\n",
    "\n",
    "def FetchDataFromGitHubRestApi(url):\n",
    "    response = session.get(url)\n",
    "    if response.status_code == 200:\n",
    "        fetched_data = response.json()\n",
    "        poll_interval = None\n",
    "        poll_interval = response.headers.get('X-Poll-Interval')\n",
    "        if poll_interval:\n",
    "            time.sleep(int(poll_interval))\n",
    "        return fetched_data\n",
    "    else:\n",
    "        error_url.append(url)\n",
    "\n",
    "def Select(field, fetched_data):\n",
    "    # Select Field From Fetched Data\n",
    "    if fetched_data[field]:\n",
    "        if type(fetched_data[field]) == str:\n",
    "            try:\n",
    "                output = str(fetched_data[field])\n",
    "            except:\n",
    "                output = fetched_data[field]\n",
    "        else:\n",
    "            output = str(fetched_data[field])\n",
    "        output = output.replace(\"'\",'').replace(\", \",'/').replace(\",\",'/').replace('[','').replace(']','')\n",
    "        if output == \" \" or output == \"\":\n",
    "            output = \"None\"\n",
    "    else:\n",
    "        output = \"None\"\n",
    "    return output"
   ]
  },
  {
   "cell_type": "code",
   "execution_count": 5,
   "id": "fc5c0a39-0a9f-494d-bd37-b4e3762b87a5",
   "metadata": {},
   "outputs": [],
   "source": [
    "with open (\"8K_github_username.txt\", \"r\", encoding=\"utf8\") as f:\n",
    "    all_username = f.readlines()"
   ]
  },
  {
   "cell_type": "code",
   "execution_count": 6,
   "id": "2140271e-f160-4d04-aec5-f4ad795d76b4",
   "metadata": {},
   "outputs": [],
   "source": [
    "with open (\"not_a_user_or_no_data.txt\", \"r\", encoding=\"utf8\") as f:\n",
    "    not_a_user_or_no_data = f.readlines()"
   ]
  },
  {
   "cell_type": "code",
   "execution_count": 7,
   "id": "942ee78d-6db2-4109-92ce-ce32b75fd793",
   "metadata": {},
   "outputs": [
    {
     "name": "stdout",
     "output_type": "stream",
     "text": [
      "8932 349\n"
     ]
    }
   ],
   "source": [
    "print(len(all_username), len(not_a_user_or_no_data))"
   ]
  },
  {
   "cell_type": "code",
   "execution_count": 8,
   "id": "712dff6e-b90c-4ec1-9eef-af636e060d5f",
   "metadata": {},
   "outputs": [
    {
     "name": "stdout",
     "output_type": "stream",
     "text": [
      "8583\n"
     ]
    }
   ],
   "source": [
    "for user in not_a_user_or_no_data:\n",
    "    all_username.remove(user)\n",
    "print(len(all_username))"
   ]
  },
  {
   "cell_type": "code",
   "execution_count": 9,
   "id": "c96c7aea-947c-4e54-840e-8403bc61d595",
   "metadata": {},
   "outputs": [],
   "source": [
    "all_username = [x.strip() for x in all_username]"
   ]
  },
  {
   "cell_type": "code",
   "execution_count": 10,
   "id": "26fc84e7-320e-41df-a2a6-89dee754f012",
   "metadata": {},
   "outputs": [],
   "source": [
    "user_alias = [\"usr\"+str(c) for c in range(len(all_username))]"
   ]
  },
  {
   "cell_type": "code",
   "execution_count": 11,
   "id": "4b2740fb-880c-4007-bf20-ca6a0239f1ce",
   "metadata": {},
   "outputs": [],
   "source": [
    "all_event_url = []\n",
    "\n",
    "for username in all_username:\n",
    "    for i in (1,2,3):\n",
    "        all_event_url.append(\"https://api.github.com/users/\"+username+\"/events?per_page=100&page=\"+str(i))"
   ]
  },
  {
   "cell_type": "code",
   "execution_count": 12,
   "id": "d2ab5ebc-4890-4097-99ae-acc3a0957b02",
   "metadata": {},
   "outputs": [
    {
     "data": {
      "text/plain": [
       "25749"
      ]
     },
     "execution_count": 12,
     "metadata": {},
     "output_type": "execute_result"
    }
   ],
   "source": [
    "len(all_event_url)"
   ]
  },
  {
   "cell_type": "code",
   "execution_count": 16,
   "id": "ce893c98-d83a-42e3-bcdf-37b930c77693",
   "metadata": {},
   "outputs": [],
   "source": [
    "def CollectUserEventData(event_url):\n",
    "    try:\n",
    "        event_data = FetchDataFromGitHubRestApi(event_url)\n",
    "        \n",
    "        type_ = Select(\"type\", event_data)\n",
    "        created_at = Select(\"created_at\", event_data)\n",
    "        return [type_, created_at]\n",
    "        \n",
    "    except:\n",
    "        return [\"None\", \"None\"]"
   ]
  },
  {
   "cell_type": "code",
   "execution_count": 17,
   "id": "41b1500a-85c7-4d9c-a91e-63deb91f34b3",
   "metadata": {},
   "outputs": [
    {
     "name": "stdout",
     "output_type": "stream",
     "text": [
      "now  15 : 1\n"
     ]
    }
   ],
   "source": [
    "print(\"now \",datetime.datetime.now().hour,\":\", datetime.datetime.now().minute)"
   ]
  },
  {
   "cell_type": "markdown",
   "id": "40f1320d-38a4-454b-8498-6d3d2c24994a",
   "metadata": {},
   "source": [
    "getting users event data from github rest api need to wait for poll interval (60s) which means you can get the maximum of 3600 requests per hour, therefore there's no need to wait for hours limitation (5000 requests/hr)."
   ]
  },
  {
   "cell_type": "code",
   "execution_count": 3,
   "id": "a0f926c7-41da-4371-a3bf-5d64b87a1a33",
   "metadata": {},
   "outputs": [
    {
     "data": {
      "text/plain": [
       "429.15"
      ]
     },
     "execution_count": 3,
     "metadata": {},
     "output_type": "execute_result"
    }
   ],
   "source": [
    "25749/60"
   ]
  },
  {
   "cell_type": "markdown",
   "id": "614e0803-5a73-495b-b8df-27d7ef24ec16",
   "metadata": {},
   "source": [
    "since I need to do a total of 25749 requests, I would need to have my computer stays up for ~429.2 hrs."
   ]
  },
  {
   "cell_type": "code",
   "execution_count": null,
   "id": "4f9390f4-7e99-4226-9438-b87032c52cac",
   "metadata": {},
   "outputs": [
    {
     "name": "stdout",
     "output_type": "stream",
     "text": [
      "Collect User Event Data from Split 1\n"
     ]
    },
    {
     "data": {
      "application/vnd.jupyter.widget-view+json": {
       "model_id": "eba428f8b4ac4becade46e47b3eaa65e",
       "version_major": 2,
       "version_minor": 0
      },
      "text/plain": [
       "  0%|          | 0/4999 [00:00<?, ?it/s]"
      ]
     },
     "metadata": {},
     "output_type": "display_data"
    }
   ],
   "source": [
    "user_number = 0\n",
    "user_event_counter = 3\n",
    "event_dict = {}\n",
    "\n",
    "for event_url in notebook.tqdm(all_event_url):\n",
    "    print(\"Collect User Event Data from Split\", split_number)\n",
    "    try:\n",
    "        event_dict[user_alias[user_number]].append(CollectUserEventData(event_url))\n",
    "    except:\n",
    "        event_dict[user_alias[user_number]] = []\n",
    "        event_dict[user_alias[user_number]].append(CollectUserEventData(event_url))\n",
    "    user_event_counter -= 1\n",
    "    if user_event_counter == 0:\n",
    "        user_number += 1\n",
    "        user_event_counter += 3\n",
    "\n",
    "print(\"\\ndone\")"
   ]
  },
  {
   "cell_type": "code",
   "execution_count": null,
   "id": "052d3f59-41ed-4758-b2f0-8b20cab66f34",
   "metadata": {},
   "outputs": [],
   "source": [
    "print(\"write to file\")\n",
    "\n",
    "with open('all_user_event_data.csv', 'w', newline='', encoding='utf8') as f:\n",
    "    \n",
    "    writer = csv.writer(f)\n",
    "    \n",
    "    writer.writerow([\"user_alias\", \"event_type\", \"created_at\"])\n",
    "\n",
    "    for user in notebook.tqdm(event_dict):\n",
    "        for user_event in event_dict[user]:\n",
    "            writer.writerow([user, user_event[0], user_event[1]])\n",
    "\n",
    "print(\"done!\")"
   ]
  },
  {
   "cell_type": "code",
   "execution_count": null,
   "id": "e558e19f-555f-43ba-b369-580ed57f0cea",
   "metadata": {},
   "outputs": [],
   "source": [
    "print(\"now \",datetime.datetime.now().hour,\":\", datetime.datetime.now().minute)"
   ]
  },
  {
   "cell_type": "code",
   "execution_count": null,
   "id": "c0bebb3a-49c9-4fbc-afd4-a8bd78341da1",
   "metadata": {},
   "outputs": [],
   "source": [
    "4999*60"
   ]
  },
  {
   "cell_type": "code",
   "execution_count": null,
   "id": "776b9bc8-c2e4-4b9b-a46b-c09cd972576d",
   "metadata": {},
   "outputs": [],
   "source": [
    "30*60"
   ]
  },
  {
   "cell_type": "code",
   "execution_count": null,
   "id": "ee24706f-3092-4083-ac1f-f593193eae90",
   "metadata": {},
   "outputs": [],
   "source": [
    "4999/1000"
   ]
  },
  {
   "cell_type": "code",
   "execution_count": null,
   "id": "84e19dde-a057-4f19-8d82-f5eca5708499",
   "metadata": {},
   "outputs": [],
   "source": []
  }
 ],
 "metadata": {
  "kernelspec": {
   "display_name": "Python 3 (ipykernel)",
   "language": "python",
   "name": "python3"
  },
  "language_info": {
   "codemirror_mode": {
    "name": "ipython",
    "version": 3
   },
   "file_extension": ".py",
   "mimetype": "text/x-python",
   "name": "python",
   "nbconvert_exporter": "python",
   "pygments_lexer": "ipython3",
   "version": "3.10.10"
  }
 },
 "nbformat": 4,
 "nbformat_minor": 5
}
