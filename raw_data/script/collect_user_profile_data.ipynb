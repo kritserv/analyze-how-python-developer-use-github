{
 "cells": [
  {
   "cell_type": "code",
   "execution_count": 1,
   "id": "d6476908-dbf9-4732-bee1-b975fcb6fd96",
   "metadata": {},
   "outputs": [],
   "source": [
    "import time\n",
    "import datetime\n",
    "import requests\n",
    "import csv"
   ]
  },
  {
   "cell_type": "code",
   "execution_count": 2,
   "id": "a98aeeb3-6fb1-482a-8baf-5beda35d0b9d",
   "metadata": {},
   "outputs": [],
   "source": [
    "#!pip install tqdm\n",
    "from tqdm import notebook"
   ]
  },
  {
   "cell_type": "code",
   "execution_count": 3,
   "id": "6b5533b8-6840-4e12-b70f-003a1be8e39c",
   "metadata": {},
   "outputs": [],
   "source": [
    "session = requests.Session()\n",
    "with open (\"token.txt\", \"r\") as f:\n",
    "    x = f.readline()\n",
    "session.headers.update({\"Authorization\": \"token \"+x.strip()})"
   ]
  },
  {
   "cell_type": "code",
   "execution_count": 4,
   "id": "46e8f895-c3b6-4da0-a268-ec9e71401c01",
   "metadata": {},
   "outputs": [],
   "source": [
    "error_url = []\n",
    "    \n",
    "def FetchDataFromGitHubRestApi(url):\n",
    "    response = session.get(url)\n",
    "    if response.status_code == 200:\n",
    "        fetched_data = response.json()\n",
    "        poll_interval = None\n",
    "        poll_interval = response.headers.get('X-Poll-Interval')\n",
    "        if poll_interval:\n",
    "            time.sleep(int(poll_interval))\n",
    "        return fetched_data\n",
    "    else:\n",
    "        error_url.append(url)\n",
    "\n",
    "def Select(field, fetched_data):\n",
    "    # Select Field From Fetched Data\n",
    "    if fetched_data[field]:\n",
    "        if type(fetched_data[field]) == str:\n",
    "            try:\n",
    "                output = str(fetched_data[field])\n",
    "            except:\n",
    "                output = fetched_data[field]\n",
    "        else:\n",
    "            output = str(fetched_data[field])\n",
    "        output = output.replace(\"'\",'').replace(\", \",'/').replace(\",\",'/').replace('[','').replace(']','')\n",
    "        if output == \" \" or output == \"\":\n",
    "            output = \"None\"\n",
    "    else:\n",
    "        output = \"None\"\n",
    "    return output"
   ]
  },
  {
   "cell_type": "code",
   "execution_count": 5,
   "id": "409f51b9-5dfe-4ec4-b031-73173aa89d07",
   "metadata": {},
   "outputs": [],
   "source": [
    "with open (\"8K_github_username.txt\", \"r\", encoding=\"utf8\") as f:\n",
    "    all_username = f.readlines()"
   ]
  },
  {
   "cell_type": "code",
   "execution_count": 6,
   "id": "7be4a0f3-9996-4f0f-8ff6-c47c4215b2f4",
   "metadata": {},
   "outputs": [],
   "source": [
    "all_username = [x.strip() for x in all_username]"
   ]
  },
  {
   "cell_type": "code",
   "execution_count": 7,
   "id": "0488be70-01b1-4554-96d0-ea89c0a1d783",
   "metadata": {},
   "outputs": [
    {
     "data": {
      "text/plain": [
       "8932"
      ]
     },
     "execution_count": 7,
     "metadata": {},
     "output_type": "execute_result"
    }
   ],
   "source": [
    "len(all_username)"
   ]
  },
  {
   "cell_type": "code",
   "execution_count": 8,
   "id": "c270dc05-9770-416e-a8b7-b9678ca25c7b",
   "metadata": {},
   "outputs": [],
   "source": [
    "first_half = all_username[:4999]\n",
    "second_half = all_username[4999:]"
   ]
  },
  {
   "cell_type": "code",
   "execution_count": 9,
   "id": "edbbbcfe-9d36-4b7b-8c6e-e7fae2ed5c85",
   "metadata": {},
   "outputs": [
    {
     "name": "stdout",
     "output_type": "stream",
     "text": [
      "8932\n"
     ]
    }
   ],
   "source": [
    "print(len(first_half)+len(second_half))"
   ]
  },
  {
   "cell_type": "code",
   "execution_count": 10,
   "id": "637126d4-9b3d-41c8-9588-6926765e82de",
   "metadata": {},
   "outputs": [],
   "source": [
    "def CollectUserProfileData(writer, username, not_a_user_or_no_data, c):\n",
    "    try:\n",
    "        user_alias = \"usr\"+str(c)\n",
    "        \n",
    "        profile_data = FetchDataFromGitHubRestApi(\"https://api.github.com/users/\"+username)\n",
    "    \n",
    "        type_ = Select(\"type\", profile_data)\n",
    "        location = Select(\"location\", profile_data)\n",
    "        hireable = Select(\"hireable\", profile_data)\n",
    "        public_repos = Select(\"public_repos\", profile_data)\n",
    "        public_gists = Select(\"public_gists\", profile_data)\n",
    "        followers = Select(\"followers\", profile_data)\n",
    "        following = Select(\"following\", profile_data)\n",
    "        created_at = Select(\"created_at\", profile_data)\n",
    "        updated_at = Select(\"updated_at\", profile_data)\n",
    "    \n",
    "        if type_ == \"User\":\n",
    "            writer.writerow([user_alias, type_, hireable, location, followers, following, public_repos, public_gists, created_at, updated_at])\n",
    "            return True\n",
    "        else:\n",
    "            not_a_user_or_no_data.append(username)\n",
    "            return False\n",
    "    \n",
    "    except:\n",
    "        not_a_user_or_no_data.append(username)\n",
    "        return False"
   ]
  },
  {
   "cell_type": "code",
   "execution_count": 11,
   "id": "46ffc904-c3ba-4345-8277-2a6177b32d8a",
   "metadata": {},
   "outputs": [
    {
     "name": "stdout",
     "output_type": "stream",
     "text": [
      "now  20 : 1\n"
     ]
    }
   ],
   "source": [
    "print(\"now \",datetime.datetime.now().hour,\":\", datetime.datetime.now().minute)"
   ]
  },
  {
   "cell_type": "code",
   "execution_count": 12,
   "id": "eccc3b5c-110d-4807-8d09-9e279b073529",
   "metadata": {},
   "outputs": [
    {
     "data": {
      "application/vnd.jupyter.widget-view+json": {
       "model_id": "c01ae6f90f084829a5b5c022c855aab1",
       "version_major": 2,
       "version_minor": 0
      },
      "text/plain": [
       "  0%|          | 0/4999 [00:00<?, ?it/s]"
      ]
     },
     "metadata": {},
     "output_type": "display_data"
    },
    {
     "name": "stdout",
     "output_type": "stream",
     "text": [
      "first half complete!\n",
      "wait for request limit\n",
      "wait_time =  31\n"
     ]
    },
    {
     "data": {
      "application/vnd.jupyter.widget-view+json": {
       "model_id": "a61fc9a92adb444d9404df0456407d30",
       "version_major": 2,
       "version_minor": 0
      },
      "text/plain": [
       "  0%|          | 0/31 [00:00<?, ?it/s]"
      ]
     },
     "metadata": {},
     "output_type": "display_data"
    },
    {
     "name": "stdout",
     "output_type": "stream",
     "text": [
      "request limit = 4999\n"
     ]
    },
    {
     "data": {
      "application/vnd.jupyter.widget-view+json": {
       "model_id": "a525da7102564b7e87698740c43c3d84",
       "version_major": 2,
       "version_minor": 0
      },
      "text/plain": [
       "  0%|          | 0/3933 [00:00<?, ?it/s]"
      ]
     },
     "metadata": {},
     "output_type": "display_data"
    },
    {
     "name": "stdout",
     "output_type": "stream",
     "text": [
      "second half complete!\n"
     ]
    }
   ],
   "source": [
    "not_a_user_or_no_data = []\n",
    "\n",
    "with open('all_user_profile_data.csv', 'w', newline='', encoding='utf8') as f:\n",
    "    \n",
    "    writer = csv.writer(f)\n",
    "    \n",
    "    writer.writerow([\"user_alias\", \"type\", \"hireable\", \"location\", \"followers\", \"following\", \"public_repos\", \"public_gists\", \"created_at\", \"updated_at\"])\n",
    "\n",
    "    c = 0\n",
    "    for username in notebook.tqdm(first_half):\n",
    "        count = CollectUserProfileData(writer, username, not_a_user_or_no_data, c)\n",
    "        if count == True:\n",
    "            c+=1\n",
    "\n",
    "    print(\"first half complete!\")\n",
    "\n",
    "    print(\"wait for request limit\")\n",
    "    wait_time = 60 - datetime.datetime.now().minute\n",
    "    print(\"wait_time = \", wait_time+1)\n",
    "    for n in notebook.tqdm(range(wait_time+1)):\n",
    "        time.sleep(60)\n",
    "    print(\"request limit = 4999\")\n",
    "    \n",
    "    for username in notebook.tqdm(second_half):\n",
    "        count = CollectUserProfileData(writer, username, not_a_user_or_no_data, c)\n",
    "        if count == True:\n",
    "            c+=1\n",
    "\n",
    "print(\"second half complete!\")"
   ]
  },
  {
   "cell_type": "code",
   "execution_count": 13,
   "id": "2462eb55-2be2-4893-9007-b06cb65ac775",
   "metadata": {},
   "outputs": [
    {
     "name": "stdout",
     "output_type": "stream",
     "text": [
      "done!\n"
     ]
    }
   ],
   "source": [
    "lines = [x+\"\\n\" for x in not_a_user_or_no_data]\n",
    "with open('not_a_user_or_no_data.txt', 'w', newline='', encoding='utf8') as f:\n",
    "    for line in lines:\n",
    "        f.write(line)\n",
    "print(\"done!\")"
   ]
  },
  {
   "cell_type": "code",
   "execution_count": 14,
   "id": "5a4fff8d-8760-4b78-ac3e-9d1bb2f26088",
   "metadata": {},
   "outputs": [
    {
     "name": "stdout",
     "output_type": "stream",
     "text": [
      "8932 349\n"
     ]
    }
   ],
   "source": [
    "print(len(all_username), len(not_a_user_or_no_data))"
   ]
  },
  {
   "cell_type": "code",
   "execution_count": 15,
   "id": "13201215-ad48-4964-99ee-f7face1cc79d",
   "metadata": {},
   "outputs": [
    {
     "name": "stdout",
     "output_type": "stream",
     "text": [
      "8583\n"
     ]
    }
   ],
   "source": [
    "print(len(all_username) - len(not_a_user_or_no_data))"
   ]
  }
 ],
 "metadata": {
  "kernelspec": {
   "display_name": "Python 3 (ipykernel)",
   "language": "python",
   "name": "python3"
  },
  "language_info": {
   "codemirror_mode": {
    "name": "ipython",
    "version": 3
   },
   "file_extension": ".py",
   "mimetype": "text/x-python",
   "name": "python",
   "nbconvert_exporter": "python",
   "pygments_lexer": "ipython3",
   "version": "3.10.10"
  }
 },
 "nbformat": 4,
 "nbformat_minor": 5
}
